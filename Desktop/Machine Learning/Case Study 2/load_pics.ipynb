{
 "cells": [
  {
   "cell_type": "code",
   "execution_count": null,
   "metadata": {},
   "outputs": [],
   "source": [
    "import numpy as np\n",
    "import matplotlib.pyplot as plt"
   ]
  },
  {
   "attachments": {},
   "cell_type": "markdown",
   "metadata": {},
   "source": [
    "## How to load one image and visualize it"
   ]
  },
  {
   "cell_type": "code",
   "execution_count": null,
   "metadata": {},
   "outputs": [],
   "source": [
    "image_path = ..."
   ]
  },
  {
   "cell_type": "code",
   "execution_count": null,
   "metadata": {},
   "outputs": [],
   "source": [
    "image = np.load(image_path)\n",
    "image.shape"
   ]
  },
  {
   "cell_type": "code",
   "execution_count": null,
   "metadata": {},
   "outputs": [],
   "source": [
    "# Normalize the image to the range [0, 1] for proper visualization\n",
    "image = (image - np.min(image)) / (np.max(image) - np.min(image))\n",
    "\n",
    "# Extract the RGB channels\n",
    "rgb_image = image[[5,2,1]]\n",
    "\n",
    "# Transpose the image array to have shape (1024, 1024, 3) for proper color image format\n",
    "rgb_image = np.transpose(rgb_image, (1, 2, 0))\n",
    "\n",
    "# Display the RGB image\n",
    "plt.imshow(rgb_image)\n",
    "plt.axis('off')\n",
    "plt.show()"
   ]
  }
 ],
 "metadata": {
  "language_info": {
   "name": "python"
  },
  "orig_nbformat": 4
 },
 "nbformat": 4,
 "nbformat_minor": 2
}
