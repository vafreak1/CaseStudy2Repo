{
 "cells": [
  {
   "cell_type": "code",
   "execution_count": 42,
   "id": "2442d2f5",
   "metadata": {},
   "outputs": [],
   "source": [
    "import numpy as np"
   ]
  },
  {
   "cell_type": "code",
   "execution_count": 43,
   "id": "d52ff711",
   "metadata": {},
   "outputs": [],
   "source": [
    "def ndigit(n, x):\n",
    "    x = str(x)\n",
    "    while(len(x) < n):\n",
    "        x = \"0\" + x\n",
    "    return x"
   ]
  },
  {
   "cell_type": "code",
   "execution_count": 64,
   "id": "ef62c4af",
   "metadata": {},
   "outputs": [],
   "source": [
    "def load_data(res, files = 20, test = False):\n",
    "    j = 0\n",
    "    if (test == True):\n",
    "        path = \"02\"\n",
    "    else:\n",
    "        path = \"train\"\n",
    "    res = int((res-1)/2)\n",
    "    \n",
    "    for n in range(files):\n",
    "        image = np.load(f\"images_{path}/images/image_{ndigit(3, n)}.npy\")\n",
    "        masks = np.load(f\"masks_{path}/masks/mask_{ndigit(3, n)}.npy\")\n",
    "        masks = np.reshape(masks, (1024,1024,1))\n",
    "        ground_truths_pos = np.array(np.where(masks != 0)).T\n",
    "        for i in ground_truths_pos:\n",
    "            train = (image[:, i[0]-res : i[0]+res+1, i[1]-res : i[1]+res+1], masks[i[0], i[1], 0])\n",
    "            np.save(f\"images_{path}/train/train_{ndigit(5, j)}.npy\", train)\n",
    "            j = j + 1"
   ]
  },
  {
   "cell_type": "code",
   "execution_count": 65,
   "id": "5fce53c0",
   "metadata": {},
   "outputs": [],
   "source": [
    "load_data(31)"
   ]
  },
  {
   "cell_type": "code",
   "execution_count": null,
   "id": "544fd7e1",
   "metadata": {},
   "outputs": [],
   "source": []
  },
  {
   "cell_type": "code",
   "execution_count": null,
   "id": "8a8396ad",
   "metadata": {},
   "outputs": [],
   "source": []
  },
  {
   "cell_type": "code",
   "execution_count": null,
   "id": "16bd0e23",
   "metadata": {},
   "outputs": [],
   "source": [
    "import numpy as np\n",
    "import matplotlib.pyplot as plt\n",
    "import os\n",
    "import sys\n",
    "import csv\n",
    "import math\n",
    "import torch, torch.nn as nn, torch.nn.functional as F\n",
    "from torch.utils.data import DataLoader, Dataset, random_split\n",
    "from torchvision import datasets, transforms\n",
    "from tqdm import tqdm\n",
    "import lightning.pytorch as pl"
   ]
  },
  {
   "cell_type": "markdown",
   "id": "803f16c1",
   "metadata": {},
   "source": [
    "## First, we slice the train masks into 31 x 31 pixels with the ground truth in the middle"
   ]
  },
  {
   "cell_type": "code",
   "execution_count": null,
   "id": "5e8ad1e5",
   "metadata": {},
   "outputs": [],
   "source": [
    "# Code"
   ]
  },
  {
   "cell_type": "markdown",
   "id": "899b7cd4",
   "metadata": {},
   "source": [
    "## Then, we load the data and have a look"
   ]
  },
  {
   "cell_type": "code",
   "execution_count": null,
   "id": "3ca66217",
   "metadata": {},
   "outputs": [],
   "source": [
    "transform = transforms.Compose(\n",
    "    [transforms.ToTensor(), # Converts an image to a Tensor\n",
    "     #transforms.Resize((28,28), antialias=False), # Downscales image to 28x28 pixels\n",
    "     #transforms.Normalize((0.5, 0.5, 0.5), # Mean for RGB\n",
    "     #                     (0.5, 0.5, 0.5)) # Std for RGB\n",
    "     ]) \n",
    "\n",
    "batch_size = 128"
   ]
  },
  {
   "cell_type": "code",
   "execution_count": null,
   "id": "9b0bff0d",
   "metadata": {},
   "outputs": [],
   "source": [
    "trainset = ...\n",
    "\n",
    "# Split train set into new train set and validation set\n",
    "val_size = round(0.2 * len(trainset))\n",
    "train_size = round(0.8 * len(trainset))\n",
    "trainset, valset = random_split(trainset, [train_size, val_size])\n",
    "\n",
    "trainloader = DataLoader(trainset, batch_size=batch_size,\n",
    "                         shuffle=True, num_workers=0)"
   ]
  },
  {
   "cell_type": "code",
   "execution_count": null,
   "id": "479096f1",
   "metadata": {},
   "outputs": [],
   "source": [
    "testset = ...\n",
    "testloader = DataLoader(testset, batch_size=batch_size,\n",
    "                        shuffle=False, num_workers=0)"
   ]
  },
  {
   "cell_type": "code",
   "execution_count": null,
   "id": "89572caf",
   "metadata": {},
   "outputs": [],
   "source": [
    "f, axarr = plt.subplots(1,10, figsize=(12, 12))\n",
    "for i in range(10):\n",
    "    X,y = testset[i]\n",
    "    X,y = X.transpose(0,-1).transpose(0,1) * 0.5 + 0.5, testset.classes[y]\n",
    "    axarr[i].imshow(X)\n",
    "    axarr[i].axis('off')\n",
    "    axarr[i].set_title(f'{y}', fontsize='small')"
   ]
  },
  {
   "cell_type": "markdown",
   "id": "93ab30c0",
   "metadata": {},
   "source": [
    "## Next, we define the model and train it"
   ]
  },
  {
   "cell_type": "code",
   "execution_count": null,
   "id": "1d6a1aaa",
   "metadata": {},
   "outputs": [],
   "source": [
    "class MyCNNModel(pl.LightningModule): # New! def init(self, layers, lr=0.01, classes=None): super().init() # <- Very important! self.lr = lr self.classes = classes ## Build model self.layers = nn.Sequential(layers) # Create a sequential model\n",
    "\n",
    "def forward(self, X):\n",
    "    return self.layers(X)\n",
    "\n",
    "def predict(self, X):\n",
    "    with torch.no_grad():\n",
    "        y_hat = self(X).argmax(1)\n",
    "    if self.classes is not None:\n",
    "        y_hat = [self.classes[i] for i in y_hat]\n",
    "    return y_hat\n",
    "\n",
    "def training_step(self, batch, batch_idx, log_prefix='train'): # New !\n",
    "    X, y = batch # Tuple with (X,y) in our case\n",
    "    y_hat = self(X)\n",
    "    loss = F.cross_entropy(y_hat, y)\n",
    "    self.log(f\"{log_prefix}_loss\", loss.item(), on_step=True, on_epoch=True, prog_bar=True, logger=True)\n",
    "    return loss\n",
    "\n",
    "def validation_step(self, batch, batch_idx): # New!\n",
    "    with torch.no_grad():\n",
    "        return self.training_step(batch, batch_idx, log_prefix='valid')\n",
    "\n",
    "def configure_optimizers(self):\n",
    "    # Adam with Weight Decay (Most commonly used)\n",
    "    optimizer = torch.optim.AdamW(self.parameters(), lr=self.lr, weight_decay=0.01)\n",
    "\n",
    "    # Simplest scheduler is ReduceLROnPlateau. This scheduler reduces the learning rate by 0.1\n",
    "    # if the val_loss has not decreased within the last 10 epochs.\n",
    "    scheduler = {\n",
    "        # REQUIRED: The scheduler instance\n",
    "        \"scheduler\": torch.optim.lr_scheduler.ReduceLROnPlateau(optimizer, factor=0.1, patience=10, verbose=True),\n",
    "        # The unit of the scheduler's step size, could also be 'step'.\n",
    "        # 'epoch' updates the scheduler on epoch end whereas 'step'\n",
    "        # updates it after a optimizer update.\n",
    "        \"interval\": \"epoch\",\n",
    "        # How many epochs/steps should pass between calls to\n",
    "        # `scheduler.step()`. 1 corresponds to updating the learning\n",
    "        # rate after every epoch/step.\n",
    "        \"frequency\": 1,\n",
    "        # Metric to to monitor for schedulers like `ReduceLROnPlateau`\n",
    "        \"monitor\": \"val_loss\",\n",
    "        # If set to `True`, will enforce that the value specified 'monitor'\n",
    "        # is available when the scheduler is updated, thus stopping\n",
    "        # training if not found. If set to `False`, it will only produce a warning\n",
    "        \"strict\": True,\n",
    "        # If using the `LearningRateMonitor` callback to monitor the\n",
    "        # learning rate progress, this keyword can be used to specify\n",
    "        # a custom logged name\n",
    "        \"name\": None,\n",
    "    }\n",
    "    return {\"optimizer\": optimizer, 'lr-scheduler': scheduler}"
   ]
  },
  {
   "cell_type": "markdown",
   "id": "3dd9a9b5",
   "metadata": {},
   "source": [
    "## Fit function deleted"
   ]
  },
  {
   "cell_type": "code",
   "execution_count": null,
   "id": "64b920c6",
   "metadata": {},
   "outputs": [],
   "source": [
    "# Implement the original ResNet Layer.\n",
    "# Find details on ResNet: https://arxiv.org/abs/1512.03385\n",
    "# Find details on Batch Normalization: https://arxiv.org/abs/1502.03167\n",
    "class MyResLayer(nn.Module):\n",
    "    def __init__(self, in_channels, out_channels, kernel, **kwargs):\n",
    "        super().__init__()\n",
    "        if in_channels == out_channels:\n",
    "            self.proj_out = nn.Identity()\n",
    "        else:\n",
    "            self.proj_out = nn.Conv2d(in_channels, out_channels, (1,1), **kwargs)\n",
    "            \n",
    "        self.res_block = nn.Sequential(\n",
    "            nn.Conv2d(in_channels, out_channels, kernel, **kwargs),\n",
    "            nn.BatchNorm2d(out_channels),\n",
    "            nn.ReLU(),\n",
    "            nn.Conv2d(out_channels, out_channels, kernel, **kwargs),\n",
    "            nn.BatchNorm2d(out_channels),\n",
    "            #nn.ReLU(),\n",
    "        )\n",
    "        \n",
    "    def forward(self, x):\n",
    "        x_res = self.res_block(x)\n",
    "        x = self.proj_out(x)\n",
    "        return  F.relu(x + x_res) #x + x_res\n",
    "tree_model = MyCNNModel(\n",
    "    MyResLayer(3, 8, (3,3), padding='same'),\n",
    "    MyResLayer(8, 8, (3,3), padding='same'),\n",
    "    nn.MaxPool2d(2, 2),\n",
    "    MyResLayer(8, 16, (3,3), padding='same'),\n",
    "    MyResLayer(16, 16, (3,3), padding='same'),\n",
    "    nn.MaxPool2d(2, 2),\n",
    "    MyResLayer(16, 32, (3,3), padding='same'),\n",
    "    MyResLayer(32, 32, (3,3), padding='same'),\n",
    "    nn.MaxPool2d(2, 2),\n",
    "    MyResLayer(32, 32, (3,3), padding='same'),\n",
    "    MyResLayer(32, 32, (3,3), padding='same'),\n",
    "    nn.MaxPool2d(2, 2),\n",
    "    MyResLayer(32, 32, (3,3), padding='same'),\n",
    "    MyResLayer(32, 32, (3,3), padding='same'),\n",
    "    nn.MaxPool2d(2, 2),\n",
    "    MyResLayer(32, 32, (3,3), padding='same'),\n",
    "    MyResLayer(32, 32, (3,3), padding='same'),\n",
    "    nn.AdaptiveMaxPool2d(1),\n",
    "    nn.Flatten(1),\n",
    "    nn.Linear(32, ...),\n",
    "    classes=classes,\n",
    "    lr=0.01\n",
    ")"
   ]
  },
  {
   "cell_type": "code",
   "execution_count": null,
   "id": "36dec192",
   "metadata": {},
   "outputs": [],
   "source": [
    "# New, we need a trainer class\n",
    "from pytorch_lightning.callbacks import RichProgressBar, RichModelSummary\n",
    "trainer1 = pl.Trainer(devices=1, accelerator=\"cpu\", precision='32-true', max_epochs=1,\n",
    "                      callbacks=[RichProgressBar(refresh_rate=50),\n",
    "                                 RichModelSummary(3),\n",
    "                                ])"
   ]
  },
  {
   "cell_type": "code",
   "execution_count": null,
   "id": "4795f794",
   "metadata": {},
   "outputs": [],
   "source": [
    "trainer1.fit(tree_model, trainloader, testloader)"
   ]
  },
  {
   "cell_type": "markdown",
   "id": "5900cc27",
   "metadata": {},
   "source": [
    "## Now, we can apply it"
   ]
  },
  {
   "cell_type": "code",
   "execution_count": null,
   "id": "97e5f0d6",
   "metadata": {},
   "outputs": [],
   "source": [
    "f, axarr = plt.subplots(1,10, figsize=(12, 12))\n",
    "for i in range(10):\n",
    "    X,y = testset[i]\n",
    "    y_hat = tree_model.predict(X.unsqueeze(0))[0]\n",
    "    X,y = X.transpose(0,-1).transpose(0,1) * 0.5 + 0.5, testset.classes[y]\n",
    "    axarr[i].imshow(X)\n",
    "    axarr[i].axis('off')\n",
    "    axarr[i].set_title(f'{y} - {y_hat}', fontsize='small')"
   ]
  }
 ],
 "metadata": {
  "kernelspec": {
   "display_name": "Python 3 (ipykernel)",
   "language": "python",
   "name": "python3"
  },
  "language_info": {
   "codemirror_mode": {
    "name": "ipython",
    "version": 3
   },
   "file_extension": ".py",
   "mimetype": "text/x-python",
   "name": "python",
   "nbconvert_exporter": "python",
   "pygments_lexer": "ipython3",
   "version": "3.9.12"
  }
 },
 "nbformat": 4,
 "nbformat_minor": 5
}
