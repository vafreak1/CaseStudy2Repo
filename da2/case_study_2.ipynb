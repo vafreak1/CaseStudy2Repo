{
 "cells": [
  {
   "cell_type": "code",
   "execution_count": 14,
   "id": "2442d2f5",
   "metadata": {},
   "outputs": [],
   "source": [
    "import numpy as np\n",
    "import matplotlib.pyplot as plt\n",
    "import os\n",
    "import sys\n",
    "import csv\n",
    "import math\n",
    "import torch, torch.nn as nn, torch.nn.functional as F\n",
    "from torch.utils.data import DataLoader, Dataset, random_split\n",
    "from torchvision import datasets, transforms\n",
    "from tqdm import tqdm\n",
    "#import lightning.pytorch as pl\n",
    "import glob"
   ]
  },
  {
   "cell_type": "code",
   "execution_count": null,
   "id": "eb7d6fef",
   "metadata": {},
   "outputs": [],
   "source": [
    "## First, we slice the train images into 31 x 31 pixels with the ground truth in the middle"
   ]
  },
  {
   "cell_type": "code",
   "execution_count": 43,
   "id": "d52ff711",
   "metadata": {},
   "outputs": [],
   "source": [
    "# def ndigit(n, x):\n",
    "#     x = str(x)\n",
    "#     while(len(x) < n):\n",
    "#         x = \"0\" + x\n",
    "#     return x"
   ]
  },
  {
   "cell_type": "code",
   "execution_count": 64,
   "id": "ef62c4af",
   "metadata": {},
   "outputs": [],
   "source": [
    "# def load_data(res, files = 20, test = False):\n",
    "#     j = 0\n",
    "#     if (test == True):\n",
    "#         path = \"02\"\n",
    "#     else:\n",
    "#         path = \"train\"\n",
    "#     res = int((res-1)/2)\n",
    "    \n",
    "#     for n in range(files):\n",
    "#         image = np.load(f\"images_{path}/images/image_{ndigit(3, n)}.npy\")\n",
    "#         masks = np.load(f\"masks_{path}/masks/mask_{ndigit(3, n)}.npy\")\n",
    "#         masks = np.reshape(masks, (1024,1024,1))\n",
    "#         ground_truths_pos = np.array(np.where(masks != 0)).T\n",
    "#         for i in ground_truths_pos:\n",
    "#             train = (image[:, i[0]-res : i[0]+res+1, i[1]-res : i[1]+res+1], masks[i[0], i[1], 0])\n",
    "#             np.save(f\"images_{path}/train/train_{ndigit(5, j)}.npy\", train)\n",
    "#             j = j + 1"
   ]
  },
  {
   "cell_type": "code",
   "execution_count": 65,
   "id": "5fce53c0",
   "metadata": {},
   "outputs": [],
   "source": [
    "#load_data(31)"
   ]
  },
  {
   "cell_type": "markdown",
   "id": "899b7cd4",
   "metadata": {},
   "source": [
    "## Then, we load the data and have a look"
   ]
  },
  {
   "cell_type": "code",
   "execution_count": 77,
   "id": "3ca66217",
   "metadata": {},
   "outputs": [],
   "source": [
    "transform = transforms.Compose(\n",
    "    [transforms.ToTensor(), # Converts an image to a Tensor\n",
    "     transforms.Normalize((0.5, 0.5, 0.5), # Mean for RGB\n",
    "                          (0.5, 0.5, 0.5)) # Std for RGB\n",
    "     ]) \n",
    "\n",
    "batch_size = 128"
   ]
  },
  {
   "cell_type": "code",
   "execution_count": 75,
   "id": "8c4e9b8a",
   "metadata": {},
   "outputs": [
    {
     "name": "stdout",
     "output_type": "stream",
     "text": [
      "<class 'numpy.ndarray'>\n"
     ]
    }
   ],
   "source": [
    "directory = 'images_train/train'\n",
    "file_paths = glob.glob(directory + '/train_00001.npy')\n",
    "trainset = [np.load(file_path, allow_pickle=True) for file_path in file_paths]\n",
    "print(type(trainset[0][0]))\n",
    "#transform(trainset[0][0])"
   ]
  },
  {
   "cell_type": "code",
   "execution_count": 76,
   "id": "b1e354f4",
   "metadata": {},
   "outputs": [
    {
     "name": "stdout",
     "output_type": "stream",
     "text": [
      "<class 'numpy.ndarray'>\n",
      "<built-in method max of numpy.ndarray object at 0x000002134535BB70>\n"
     ]
    },
    {
     "data": {
      "text/plain": [
       "array([[[ 750,  574,  336, ...,  709,  291,  346],\n",
       "        [ 570,  706,  380, ...,  650,  294,  338],\n",
       "        [ 301,  672,  652, ...,  388,  243,  207],\n",
       "        ...,\n",
       "        [ 286,  252,  210, ...,  209,  198,  181],\n",
       "        [ 274,  226,  203, ...,  206,  198,  176],\n",
       "        [ 262,  247,  218, ...,  187,  178,  189]],\n",
       "\n",
       "       [[1112,  904,  592, ..., 1042,  405,  408],\n",
       "        [ 885, 1078,  622, ...,  994,  452,  399],\n",
       "        [ 496,  982,  944, ...,  625,  394,  352],\n",
       "        ...,\n",
       "        [ 526,  417,  362, ...,  490,  437,  328],\n",
       "        [ 495,  415,  383, ...,  428,  402,  318],\n",
       "        [ 508,  452,  424, ...,  381,  336,  342]],\n",
       "\n",
       "       [[ 880,  770,  456, ...,  854,  357,  258],\n",
       "        [ 681,  907,  516, ...,  914,  370,  268],\n",
       "        [ 342,  808,  826, ...,  501,  345,  262],\n",
       "        ...,\n",
       "        [ 402,  341,  268, ...,  221,  234,  219],\n",
       "        [ 383,  280,  234, ...,  232,  236,  205],\n",
       "        [ 368,  307,  268, ...,  216,  206,  216]],\n",
       "\n",
       "       ...,\n",
       "\n",
       "       [[   1,    1,    1, ..., 2783, 2350, 1980],\n",
       "        [   1,    1,    1, ..., 2606, 2350, 1987],\n",
       "        [   1,    1,    1, ..., 2540, 2000, 1979],\n",
       "        ...,\n",
       "        [   1, 2991, 2782, ..., 2724, 2395, 2062],\n",
       "        [2961, 2777, 2698, ..., 2544, 2374, 2135],\n",
       "        [2961, 2777, 2698, ..., 2383, 2282, 2166]],\n",
       "\n",
       "       [[1809, 1891, 1845, ..., 1496, 1308,  978],\n",
       "        [1587, 1856, 1756, ..., 1535, 1281,  976],\n",
       "        [1587, 1856, 1756, ..., 1535, 1052,  948],\n",
       "        ...,\n",
       "        [1555, 1457, 1374, ..., 1055,  980,  891],\n",
       "        [1462, 1282, 1139, ...,  960,  954,  867],\n",
       "        [1462, 1282, 1139, ...,  880,  880,  879]],\n",
       "\n",
       "       [[1060, 1085, 1027, ...,  992,  821,  504],\n",
       "        [ 959, 1120, 1074, ...,  998,  794,  549],\n",
       "        [ 959, 1120, 1074, ...,  966,  639,  549],\n",
       "        ...,\n",
       "        [ 818,  795,  739, ...,  511,  488,  459],\n",
       "        [ 748,  685,  580, ...,  453,  453,  425],\n",
       "        [ 748,  685,  580, ...,  420,  424,  422]]], dtype=int16)"
      ]
     },
     "execution_count": 76,
     "metadata": {},
     "output_type": "execute_result"
    }
   ],
   "source": [
    "trainset = trainset[0][0]\n",
    "print(type(trainset))\n",
    "print(trainset.max)\n",
    "np.place(trainset, trainset > 3000, 1)\n",
    "trainset"
   ]
  },
  {
   "cell_type": "code",
   "execution_count": null,
   "id": "9b0bff0d",
   "metadata": {},
   "outputs": [],
   "source": [
    "directory = 'images_train/train'\n",
    "file_paths = glob.glob(directory + '/*.npy')\n",
    "trainset = [np.load(file_path, allow_pickle=True) for file_path in file_paths]\n",
    "\n",
    "for pic in trainset:\n",
    "    np.place(pic[0], pic[0] > 3000, 1)\n",
    "\n",
    "\n",
    "# Split train set into new train set and validation set\n",
    "val_size = round(0.2 * len(trainset))\n",
    "train_size = round(0.8 * len(trainset))\n",
    "trainset, valset = random_split(trainset, [train_size, val_size])\n",
    "\n",
    "trainloader = DataLoader(trainset, batch_size=batch_size,\n",
    "                         shuffle=True, num_workers=0, transform=transform)\n",
    "validloader = DataLoader(trainset, batch_size=batch_size,\n",
    "                         shuffle=True, num_workers=0, transform=transform)"
   ]
  },
  {
   "cell_type": "code",
   "execution_count": null,
   "id": "479096f1",
   "metadata": {},
   "outputs": [],
   "source": [
    "testset = ...\n",
    "testloader = DataLoader(testset, batch_size=batch_size,\n",
    "                        shuffle=False, num_workers=0)"
   ]
  },
  {
   "cell_type": "code",
   "execution_count": 17,
   "id": "89572caf",
   "metadata": {},
   "outputs": [
    {
     "ename": "IndexError",
     "evalue": "list index out of range",
     "output_type": "error",
     "traceback": [
      "\u001b[1;31m---------------------------------------------------------------------------\u001b[0m",
      "\u001b[1;31mIndexError\u001b[0m                                Traceback (most recent call last)",
      "Cell \u001b[1;32mIn[17], line 3\u001b[0m\n\u001b[0;32m      1\u001b[0m f, axarr \u001b[39m=\u001b[39m plt\u001b[39m.\u001b[39msubplots(\u001b[39m1\u001b[39m,\u001b[39m10\u001b[39m, figsize\u001b[39m=\u001b[39m(\u001b[39m12\u001b[39m, \u001b[39m12\u001b[39m))\n\u001b[0;32m      2\u001b[0m \u001b[39mfor\u001b[39;00m i \u001b[39min\u001b[39;00m \u001b[39mrange\u001b[39m(\u001b[39m10\u001b[39m):\n\u001b[1;32m----> 3\u001b[0m     X,y \u001b[39m=\u001b[39m trainset[i]\n\u001b[0;32m      4\u001b[0m     X,y \u001b[39m=\u001b[39m X\u001b[39m.\u001b[39mtranspose(\u001b[39m0\u001b[39m,\u001b[39m-\u001b[39m\u001b[39m1\u001b[39m)\u001b[39m.\u001b[39mtranspose(\u001b[39m0\u001b[39m,\u001b[39m1\u001b[39m) \u001b[39m*\u001b[39m \u001b[39m0.5\u001b[39m \u001b[39m+\u001b[39m \u001b[39m0.5\u001b[39m, y\n\u001b[0;32m      5\u001b[0m     axarr[i]\u001b[39m.\u001b[39mimshow(X)\n",
      "\u001b[1;31mIndexError\u001b[0m: list index out of range"
     ]
    },
    {
     "ename": "",
     "evalue": "",
     "output_type": "error",
     "traceback": [
      "\u001b[1;31mCannot execute code, session has been disposed. Please try restarting the Kernel."
     ]
    },
    {
     "ename": "",
     "evalue": "",
     "output_type": "error",
     "traceback": [
      "\u001b[1;31mThe Kernel crashed while executing code in the the current cell or a previous cell. Please review the code in the cell(s) to identify a possible cause of the failure. Click <a href='https://aka.ms/vscodeJupyterKernelCrash'>here</a> for more info. View Jupyter <a href='command:jupyter.viewOutput'>log</a> for further details."
     ]
    }
   ],
   "source": [
    "f, axarr = plt.subplots(1,10, figsize=(12, 12))\n",
    "for i in range(10):\n",
    "    X,y = trainset[i]\n",
    "    X,y = X.transpose(0,-1).transpose(0,1) * 0.5 + 0.5, y\n",
    "    axarr[i].imshow(X)\n",
    "    axarr[i].axis('off')\n",
    "    axarr[i].set_title(f'{y}', fontsize='small')"
   ]
  },
  {
   "cell_type": "markdown",
   "id": "93ab30c0",
   "metadata": {},
   "source": [
    "## Next, we define the model and train it"
   ]
  },
  {
   "cell_type": "code",
   "execution_count": null,
   "id": "1d6a1aaa",
   "metadata": {},
   "outputs": [],
   "source": [
    "class MyCNNModel(pl.LightningModule): # New! def init(self, layers, lr=0.01, classes=None): super().init() # <- Very important! self.lr = lr self.classes = classes ## Build model self.layers = nn.Sequential(layers) # Create a sequential model\n",
    "\n",
    "def forward(self, X):\n",
    "    return self.layers(X)\n",
    "\n",
    "def predict(self, X):\n",
    "    with torch.no_grad():\n",
    "        y_hat = self(X).argmax(1)\n",
    "    if self.classes is not None:\n",
    "        y_hat = [self.classes[i] for i in y_hat]\n",
    "    return y_hat\n",
    "\n",
    "def training_step(self, batch, batch_idx, log_prefix='train'): # New !\n",
    "    X, y = batch # Tuple with (X,y) in our case\n",
    "    y_hat = self(X)\n",
    "    loss = F.cross_entropy(y_hat, y)\n",
    "    self.log(f\"{log_prefix}_loss\", loss.item(), on_step=True, on_epoch=True, prog_bar=True, logger=True)\n",
    "    return loss\n",
    "\n",
    "def validation_step(self, batch, batch_idx): # New!\n",
    "    with torch.no_grad():\n",
    "        return self.training_step(batch, batch_idx, log_prefix='valid')\n",
    "\n",
    "def configure_optimizers(self):\n",
    "    # Adam with Weight Decay (Most commonly used)\n",
    "    optimizer = torch.optim.AdamW(self.parameters(), lr=self.lr, weight_decay=0.01)\n",
    "\n",
    "    # Simplest scheduler is ReduceLROnPlateau. This scheduler reduces the learning rate by 0.1\n",
    "    # if the val_loss has not decreased within the last 10 epochs.\n",
    "    scheduler = {\n",
    "        # REQUIRED: The scheduler instance\n",
    "        \"scheduler\": torch.optim.lr_scheduler.ReduceLROnPlateau(optimizer, factor=0.1, patience=10, verbose=True),\n",
    "        # The unit of the scheduler's step size, could also be 'step'.\n",
    "        # 'epoch' updates the scheduler on epoch end whereas 'step'\n",
    "        # updates it after a optimizer update.\n",
    "        \"interval\": \"epoch\",\n",
    "        # How many epochs/steps should pass between calls to\n",
    "        # `scheduler.step()`. 1 corresponds to updating the learning\n",
    "        # rate after every epoch/step.\n",
    "        \"frequency\": 1,\n",
    "        # Metric to to monitor for schedulers like `ReduceLROnPlateau`\n",
    "        \"monitor\": \"val_loss\",\n",
    "        # If set to `True`, will enforce that the value specified 'monitor'\n",
    "        # is available when the scheduler is updated, thus stopping\n",
    "        # training if not found. If set to `False`, it will only produce a warning\n",
    "        \"strict\": True,\n",
    "        # If using the `LearningRateMonitor` callback to monitor the\n",
    "        # learning rate progress, this keyword can be used to specify\n",
    "        # a custom logged name\n",
    "        \"name\": None,\n",
    "    }\n",
    "    return {\"optimizer\": optimizer, 'lr-scheduler': scheduler}"
   ]
  },
  {
   "cell_type": "markdown",
   "id": "3dd9a9b5",
   "metadata": {},
   "source": [
    "## Fit function deleted"
   ]
  },
  {
   "cell_type": "code",
   "execution_count": null,
   "id": "64b920c6",
   "metadata": {},
   "outputs": [],
   "source": [
    "# Implement the original ResNet Layer.\n",
    "# Find details on ResNet: https://arxiv.org/abs/1512.03385\n",
    "# Find details on Batch Normalization: https://arxiv.org/abs/1502.03167\n",
    "class MyResLayer(nn.Module):\n",
    "    def __init__(self, in_channels, out_channels, kernel, **kwargs):\n",
    "        super().__init__()\n",
    "        if in_channels == out_channels:\n",
    "            self.proj_out = nn.Identity()\n",
    "        else:\n",
    "            self.proj_out = nn.Conv2d(in_channels, out_channels, (1,1), **kwargs)\n",
    "            \n",
    "        self.res_block = nn.Sequential(\n",
    "            nn.Conv2d(in_channels, out_channels, kernel, **kwargs),\n",
    "            nn.BatchNorm2d(out_channels),\n",
    "            nn.ReLU(),\n",
    "            nn.Conv2d(out_channels, out_channels, kernel, **kwargs),\n",
    "            nn.BatchNorm2d(out_channels),\n",
    "            #nn.ReLU(),\n",
    "        )\n",
    "        \n",
    "    def forward(self, x):\n",
    "        x_res = self.res_block(x)\n",
    "        x = self.proj_out(x)\n",
    "        return  F.relu(x + x_res) #x + x_res\n",
    "\n",
    "tree_model = MyCNNModel(\n",
    "    MyResLayer(3, 8, (3,3), padding='same'),\n",
    "    MyResLayer(8, 8, (3,3), padding='same'),\n",
    "    nn.MaxPool2d(2, 2),\n",
    "    MyResLayer(8, 16, (3,3), padding='same'),\n",
    "    MyResLayer(16, 16, (3,3), padding='same'),\n",
    "    nn.MaxPool2d(2, 2),\n",
    "    MyResLayer(16, 32, (3,3), padding='same'),\n",
    "    MyResLayer(32, 32, (3,3), padding='same'),\n",
    "    nn.MaxPool2d(2, 2),\n",
    "    MyResLayer(32, 32, (3,3), padding='same'),\n",
    "    MyResLayer(32, 32, (3,3), padding='same'),\n",
    "    nn.MaxPool2d(2, 2),\n",
    "    MyResLayer(32, 32, (3,3), padding='same'),\n",
    "    MyResLayer(32, 32, (3,3), padding='same'),\n",
    "    nn.MaxPool2d(2, 2),\n",
    "    MyResLayer(32, 32, (3,3), padding='same'),\n",
    "    MyResLayer(32, 32, (3,3), padding='same'),\n",
    "    nn.AdaptiveMaxPool2d(1),\n",
    "    nn.Flatten(1),\n",
    "    nn.Linear(32, ...),\n",
    "    lr=0.01\n",
    ")"
   ]
  },
  {
   "cell_type": "code",
   "execution_count": null,
   "id": "36dec192",
   "metadata": {},
   "outputs": [],
   "source": [
    "# New, we need a trainer class\n",
    "from pytorch_lightning.callbacks import RichProgressBar, RichModelSummary\n",
    "trainer1 = pl.Trainer(devices=1, accelerator=\"cpu\", precision='32-true', max_epochs=1,\n",
    "                      callbacks=[RichProgressBar(refresh_rate=50),\n",
    "                                 RichModelSummary(3),\n",
    "                                ])"
   ]
  },
  {
   "cell_type": "code",
   "execution_count": null,
   "id": "4795f794",
   "metadata": {},
   "outputs": [],
   "source": [
    "trainer1.fit(tree_model, trainloader, testloader)"
   ]
  },
  {
   "cell_type": "markdown",
   "id": "5900cc27",
   "metadata": {},
   "source": [
    "## Now, we can apply it"
   ]
  },
  {
   "cell_type": "code",
   "execution_count": null,
   "id": "97e5f0d6",
   "metadata": {},
   "outputs": [],
   "source": [
    "f, axarr = plt.subplots(1,10, figsize=(12, 12))\n",
    "for i in range(10):\n",
    "    X,y = testset[i]\n",
    "    y_hat = tree_model.predict(X.unsqueeze(0))[0]\n",
    "    X,y = X.transpose(0,-1).transpose(0,1) * 0.5 + 0.5, testset.classes[y]\n",
    "    axarr[i].imshow(X)\n",
    "    axarr[i].axis('off')\n",
    "    axarr[i].set_title(f'{y} - {y_hat}', fontsize='small')"
   ]
  }
 ],
 "metadata": {
  "kernelspec": {
   "display_name": "Python 3 (ipykernel)",
   "language": "python",
   "name": "python3"
  },
  "language_info": {
   "codemirror_mode": {
    "name": "ipython",
    "version": 3
   },
   "file_extension": ".py",
   "mimetype": "text/x-python",
   "name": "python",
   "nbconvert_exporter": "python",
   "pygments_lexer": "ipython3",
   "version": "3.9.12"
  }
 },
 "nbformat": 4,
 "nbformat_minor": 5
}
