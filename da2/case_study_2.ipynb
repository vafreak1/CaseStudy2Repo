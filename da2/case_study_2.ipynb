{
 "cells": [
  {
   "cell_type": "code",
   "execution_count": 1,
   "id": "2442d2f5",
   "metadata": {},
   "outputs": [],
   "source": [
    "import numpy as np\n",
    "import matplotlib.pyplot as plt\n",
    "import os\n",
    "import sys\n",
    "import csv\n",
    "import math\n",
    "import torch, torch.nn as nn, torch.nn.functional as F\n",
    "from torch.utils.data import DataLoader, Dataset, random_split\n",
    "from torchvision import datasets, transforms\n",
    "from tqdm import tqdm\n",
    "import pytorch_lightning as pl\n",
    "import glob"
   ]
  },
  {
   "cell_type": "markdown",
   "id": "eb7d6fef",
   "metadata": {},
   "source": [
    "## First, we slice the train images into 31 x 31 pixels with the ground truth in the middle"
   ]
  },
  {
   "cell_type": "code",
   "execution_count": 2,
   "id": "d52ff711",
   "metadata": {},
   "outputs": [],
   "source": [
    "def ndigit(n, x):\n",
    "    x = str(x)\n",
    "    while(len(x) < n):\n",
    "        x = \"0\" + x\n",
    "    return x"
   ]
  },
  {
   "cell_type": "code",
   "execution_count": 3,
   "id": "ef62c4af",
   "metadata": {},
   "outputs": [],
   "source": [
    "def load_data(res, files = 20):\n",
    "    j = 0\n",
    "    path = [\"02\", \"train\"]\n",
    "    res = int((res-1)/2)\n",
    "    \n",
    "    for p in path:\n",
    "        for f in range(files):\n",
    "            image = np.load(f\"images_{p}/images/image_{ndigit(3, f)}.npy\")\n",
    "            mask = np.load(f\"masks_{p}/masks/mask_{ndigit(3, f)}.npy\")\n",
    "            image = np.reshape(image, (1024,1024,10))\n",
    "            mask = np.reshape(mask, (1024,1024,1))\n",
    "\n",
    "            # Add padding to every image (and mask) edge in case there are ground truths which are too close to an edge\n",
    "            padded_image = np.pad(image, ((res+1, res+1), (res+1, res+1), (0,0)), mode='constant')\n",
    "            padded_mask = np.pad(mask, ((res+1, res+1), (res+1, res+1), (0,0)), mode='constant')\n",
    "\n",
    "            # Extract ground truths\n",
    "            ground_truths_pos = np.array(np.where(padded_mask != 0)).T\n",
    "            \n",
    "            # Slice and save patches around each ground truth\n",
    "            for i in ground_truths_pos: \n",
    "                patch = (padded_image[i[0]-res : i[0]+res+1, i[1]-res : i[1]+res+1, :], padded_mask[i[0], i[1], 0])\n",
    "                np.save(f\"patches/train/patch_{p}_{ndigit(3, f)}_{ndigit(5, j)}.npy\", np.array(patch, dtype=\"object\"))                                 \n",
    "                j += 1"
   ]
  },
  {
   "cell_type": "code",
   "execution_count": 4,
   "id": "31235460",
   "metadata": {},
   "outputs": [],
   "source": [
    "# Check number of ground truths\n",
    "# pos = 0\n",
    "# for i in range(20):\n",
    "#     mask = np.load(f\"masks_02/masks/mask_{ndigit(3, i)}.npy\")\n",
    "#     ground_truths_pos = np.array(np.where(mask != 0)).T\n",
    "#     pos = pos + len(ground_truths_pos)\n",
    "# print(pos)"
   ]
  },
  {
   "cell_type": "code",
   "execution_count": 5,
   "id": "5fce53c0",
   "metadata": {},
   "outputs": [],
   "source": [
    "res = 15\n",
    "load_data(res)"
   ]
  },
  {
   "cell_type": "markdown",
   "id": "899b7cd4",
   "metadata": {},
   "source": [
    "## Then, we load the data and have a look"
   ]
  },
  {
   "cell_type": "code",
   "execution_count": 6,
   "id": "3ca66217",
   "metadata": {},
   "outputs": [],
   "source": [
    "batch_size = 128"
   ]
  },
  {
   "cell_type": "code",
   "execution_count": 7,
   "id": "9b0bff0d",
   "metadata": {},
   "outputs": [
    {
     "data": {
      "text/plain": [
       "38863"
      ]
     },
     "execution_count": 7,
     "metadata": {},
     "output_type": "execute_result"
    }
   ],
   "source": [
    "# Load patches\n",
    "directory = 'patches/train'\n",
    "file_paths = glob.glob(directory + '/*.npy')\n",
    "trainset0 = [np.load(file_path, allow_pickle=True) for file_path in file_paths]\n",
    "trainset = []\n",
    "for pic in trainset0:\n",
    "    trainset.append(pic)\n",
    "len(trainset)"
   ]
  },
  {
   "cell_type": "code",
   "execution_count": 8,
   "id": "21d208fc",
   "metadata": {},
   "outputs": [
    {
     "data": {
      "text/plain": [
       "array([array([[[1828, 2589, 2589, ..., 3113, 3113, 4216],\n",
       "               [4216, 3720, 3720, ..., 3177, 3177, 2852],\n",
       "               [2852, 2577, 2577, ..., 2987, 2987, 3099],\n",
       "               ...,\n",
       "               [3296, 3180, 3180, ..., 2839, 2839, 2809],\n",
       "               [2809, 3003, 3003, ..., 2901, 2901, 3862],\n",
       "               [3862, 4495, 4495, ..., 3690, 3690, 2986]],\n",
       "\n",
       "              [[2752, 3649, 3649, ..., 3318, 3318, 2660],\n",
       "               [2660, 2365, 2365, ..., 1897, 1897, 2049],\n",
       "               [2049, 2513, 2513, ..., 2798, 2798, 2941],\n",
       "               ...,\n",
       "               [3058, 3025, 3025, ..., 2702, 2702, 2982],\n",
       "               [2982, 3786, 3786, ..., 3334, 3334, 3035],\n",
       "               [3035, 3121, 3121, ..., 2796, 2796, 3001]],\n",
       "\n",
       "              [[4135, 3565, 3565, ..., 2924, 2924, 3659],\n",
       "               [3659, 3214, 3214, ..., 2080, 2080, 2523],\n",
       "               [2523, 2724, 2724, ..., 2840, 2840, 2813],\n",
       "               ...,\n",
       "               [2994, 3207, 3207, ..., 3519, 3519, 2896],\n",
       "               [2896, 2987, 2987, ..., 3395, 3395, 3442],\n",
       "               [3442, 3491, 3491, ..., 3284, 3284, 3646]],\n",
       "\n",
       "              ...,\n",
       "\n",
       "              [[2776, 2800, 2800, ..., 2884, 2884, 2905],\n",
       "               [2905, 2900, 2900, ..., 2938, 2938, 2903],\n",
       "               [2903, 2855, 2855, ..., 2827, 2827, 2848],\n",
       "               ...,\n",
       "               [3078, 2955, 2955, ..., 3346, 3346, 3213],\n",
       "               [3213, 3048, 3048, ..., 2403, 2403, 2334],\n",
       "               [2334, 2454, 2454, ..., 3133, 3133, 3345]],\n",
       "\n",
       "              [[2803, 2912, 2912, ..., 2974, 2974, 2867],\n",
       "               [2867, 2873, 2873, ..., 2858, 2858, 2906],\n",
       "               [2906, 2874, 2874, ..., 2948, 2948, 2917],\n",
       "               ...,\n",
       "               [3886, 4028, 4028, ..., 3209, 3209, 2954],\n",
       "               [2954, 2933, 2933, ..., 3024, 3024, 3055],\n",
       "               [3055, 3111, 3111, ..., 3446, 3446, 3487]],\n",
       "\n",
       "              [[2681, 2711, 2711, ..., 2953, 2953, 2905],\n",
       "               [2905, 2852, 2852, ..., 2872, 2872, 2830],\n",
       "               [2830, 2866, 2866, ..., 3115, 3115, 3121],\n",
       "               ...,\n",
       "               [2900, 2990, 2990, ..., 2910, 2910, 2903],\n",
       "               [2903, 3006, 3006, ..., 3729, 3729, 3793],\n",
       "               [3793, 3421, 3421, ..., 3041, 3041, 3135]]], dtype=int16),\n",
       "       4.179999828338623], dtype=object)"
      ]
     },
     "execution_count": 8,
     "metadata": {},
     "output_type": "execute_result"
    }
   ],
   "source": [
    "trainset[0]"
   ]
  },
  {
   "cell_type": "code",
   "execution_count": 9,
   "id": "ed9c374b",
   "metadata": {},
   "outputs": [],
   "source": [
    "def enrich_channels(trainset, veggie, moisture):\n",
    "    #trainset[pic_no][0][h][w][channel] -> pixel value\n",
    "    print(f\"Shape vorher: Liste mit ({res},{res},10) Bildern\")\n",
    "    counter = 0\n",
    "    trainset = trainset.copy()  # Make a copy of the trainset\n",
    "\n",
    "    if veggie:\n",
    "        pic_no = 0\n",
    "        for pic in trainset:\n",
    "            counter += 1\n",
    "            pixel_values = pic[0]\n",
    "            channel8 = pixel_values[:, :, 7]\n",
    "            channel4 = pixel_values[:, :, 3]\n",
    "            channels = pic[0].shape[2]\n",
    "            width = pic[0].shape[0]\n",
    "            height = pic[0].shape[1]\n",
    "\n",
    "            vegetation_array = np.divide((np.subtract(channel8, channel4)), np.add(channel8, channel4))\n",
    "            trainset_transformed = np.concatenate((trainset[pic_no][0], vegetation_array[:, :, np.newaxis]), axis=2)\n",
    "            trainset[pic_no] = (trainset_transformed, trainset[pic_no][1])\n",
    "            pic_no += 1\n",
    "\n",
    "        print(\"Added Vegetation (B8-B4)/(B8+B4)\")\n",
    "\n",
    "    if moisture:\n",
    "        pic_no = 0\n",
    "        for pic in trainset:\n",
    "            pixel_values = pic[0]\n",
    "            channel8a = pixel_values[:, :, 7]\n",
    "            channel11 = pixel_values[:, :, 8]\n",
    "            channels = pic[0].shape[2]\n",
    "            width = pic[0].shape[0]\n",
    "            height = pic[0].shape[1]\n",
    "\n",
    "            moisture_array = np.divide((np.subtract(channel8a, channel11)), np.add(channel8a, channel11))\n",
    "            trainset_transformed = np.concatenate((trainset[pic_no][0], moisture_array[:, :, np.newaxis]), axis=2)\n",
    "            trainset[pic_no] = (trainset_transformed, trainset[pic_no][1])\n",
    "            pic_no += 1\n",
    "\n",
    "        print(\"Added Moisture (B8A-B11)/(B8A+B11)\")\n",
    "        \n",
    "    print(\"shape nachher\", trainset[0][0].shape)  # Print the shape of the first item\n",
    "\n",
    "    return trainset"
   ]
  },
  {
   "cell_type": "code",
   "execution_count": 10,
   "id": "8d4d8018",
   "metadata": {},
   "outputs": [
    {
     "name": "stdout",
     "output_type": "stream",
     "text": [
      "Shape vorher: Liste mit (15,15,10) Bildern\n"
     ]
    },
    {
     "name": "stderr",
     "output_type": "stream",
     "text": [
      "/var/folders/8w/vxj71qs163b3nd515vcdbpbc0000gn/T/ipykernel_18360/950853731.py:18: RuntimeWarning: invalid value encountered in divide\n",
      "  vegetation_array = np.divide((np.subtract(channel8, channel4)), np.add(channel8, channel4))\n"
     ]
    },
    {
     "name": "stdout",
     "output_type": "stream",
     "text": [
      "Added Vegetation (B8-B4)/(B8+B4)\n"
     ]
    },
    {
     "name": "stderr",
     "output_type": "stream",
     "text": [
      "/var/folders/8w/vxj71qs163b3nd515vcdbpbc0000gn/T/ipykernel_18360/950853731.py:35: RuntimeWarning: invalid value encountered in divide\n",
      "  moisture_array = np.divide((np.subtract(channel8a, channel11)), np.add(channel8a, channel11))\n"
     ]
    },
    {
     "name": "stdout",
     "output_type": "stream",
     "text": [
      "Added Moisture (B8A-B11)/(B8A+B11)\n",
      "shape nachher (15, 15, 12)\n"
     ]
    },
    {
     "data": {
      "text/plain": [
       "38863"
      ]
     },
     "execution_count": 10,
     "metadata": {},
     "output_type": "execute_result"
    }
   ],
   "source": [
    "trainset_enriched = enrich_channels(trainset, True, True)\n",
    "len(trainset_enriched)\n",
    "#trainset[pic_no][0][h][w][channel] -> pixel value\n",
    "#trainset[pic_no][1] -> Ground truth "
   ]
  },
  {
   "cell_type": "code",
   "execution_count": 11,
   "id": "541939c9",
   "metadata": {},
   "outputs": [
    {
     "data": {
      "text/plain": [
       "(15, 15, 12)"
      ]
     },
     "execution_count": 11,
     "metadata": {},
     "output_type": "execute_result"
    }
   ],
   "source": [
    "X,y = trainset_enriched[0]\n",
    "X.shape"
   ]
  },
  {
   "cell_type": "code",
   "execution_count": 12,
   "id": "0a187451",
   "metadata": {},
   "outputs": [],
   "source": [
    "import albumentations as A\n",
    "elastic_transform = A.ElasticTransform(alpha=50.0, sigma=3.0)\n",
    "\n",
    "class CustomDataset(Dataset):\n",
    "    def __init__(self, trainset, transform, augmentations):\n",
    "        self.trainset = trainset\n",
    "        self.transform = transform\n",
    "        self.augmentations = augmentations\n",
    "\n",
    "    def __len__(self):\n",
    "        return len(self.trainset)\n",
    "\n",
    "    def __getitem__(self, index):\n",
    "        data, target = self.trainset[index]\n",
    "\n",
    "        # apply each transformation jointly to each input\n",
    "        if self.transform:\n",
    "            data = self.transform(data)\n",
    "\n",
    "        # apply each augmentation separately to each input\n",
    "        if self.augmentations:\n",
    "            for augmentation in self.augmentations:\n",
    "                data = augmentation(data)\n",
    "\n",
    "\n",
    "        return data, target\n",
    "\n",
    "def to_float64(image):\n",
    "    return image.to(torch.float64)\n",
    "\n",
    "def normalize(image):\n",
    "    return torch.where(image > 1, 1, image)\n",
    "\n",
    "class CustomTransform:\n",
    "    def __init__(self):\n",
    "        self.mean = (0.5,) * 12\n",
    "        self.std = (0.5,) * 12\n",
    "\n",
    "    def __call__(self, image):\n",
    "        image = to_float64(image)\n",
    "        image = normalize(image)\n",
    "        image = transforms.Normalize(self.mean, self.std)(image)\n",
    "        return image\n",
    "\n",
    "transform = transforms.Compose([\n",
    "    transforms.ToTensor(),\n",
    "    CustomTransform()\n",
    "])\n",
    "\n",
    "\n",
    "augmentations = [\n",
    "     transforms.RandomRotation(360),\n",
    "     transforms.RandomAffine(degrees=0, translate=(0.5,0.5)), # shift in both directions along 0.5 * height on y-axis and 0.5 * width on x-axis\n",
    "     transforms.RandomAffine(0, scale=(10,45)), # scale in range 10 <= scale <= 45\n",
    "     transforms.RandomAffine(0, shear=[10,30,10,30]), # shear on x- and y-axis between (10,30) \n",
    "     elastic_transform # displaces pixels\n",
    "]"
   ]
  },
  {
   "cell_type": "code",
   "execution_count": 13,
   "id": "69f0648a",
   "metadata": {},
   "outputs": [
    {
     "data": {
      "text/plain": [
       "38863"
      ]
     },
     "execution_count": 13,
     "metadata": {},
     "output_type": "execute_result"
    }
   ],
   "source": [
    "# Create the custom dataset\n",
    "trainset_transformed = CustomDataset(trainset_enriched, transform=transform, augmentations=augmentations)\n",
    "\n",
    "len(trainset_transformed)"
   ]
  },
  {
   "cell_type": "code",
   "execution_count": 14,
   "id": "e5b05618",
   "metadata": {},
   "outputs": [],
   "source": [
    "#trainset_transformed[0]"
   ]
  },
  {
   "cell_type": "code",
   "execution_count": 15,
   "id": "e8f4492a",
   "metadata": {},
   "outputs": [
    {
     "name": "stdout",
     "output_type": "stream",
     "text": [
      "31090 7773\n"
     ]
    }
   ],
   "source": [
    "# Calculate the sizes of the training set and validation set\n",
    "train_size = int(0.8 * len(trainset_transformed))\n",
    "val_size = len(trainset_transformed) - train_size\n",
    "\n",
    "# Split trainset into trainset and valset\n",
    "trainset_load, valset_load = random_split(trainset_transformed, [train_size, val_size])\n",
    "print(len(trainset_load), len(valset_load))\n",
    "\n",
    "# Create data loaders for the training set and validation set\n",
    "trainloader = DataLoader(trainset_load, batch_size=batch_size, shuffle=True, num_workers=4)\n",
    "validloader = DataLoader(valset_load, batch_size=batch_size, shuffle=False, num_workers=4)\n"
   ]
  },
  {
   "cell_type": "markdown",
   "id": "93ab30c0",
   "metadata": {},
   "source": [
    "## Next, we define the model and train it"
   ]
  },
  {
   "cell_type": "code",
   "execution_count": 16,
   "id": "1d6a1aaa",
   "metadata": {},
   "outputs": [],
   "source": [
    "class MyCNNModel(pl.LightningModule): # New! def init(self, layers, lr=0.01, classes=None): super().init() # <- Very important! self.lr = lr self.classes = classes ## Build model self.layers = nn.Sequential(layers) # Create a sequential model\n",
    "\n",
    "    def __init__(self, *layers, classes=None):\n",
    "        super().__init__()\n",
    "\n",
    "        self.lr = 0.01  # Assign the learning rate here\n",
    "        self.classes = classes\n",
    "\n",
    "        self.layers = nn.Sequential(*layers)  # Create a sequential model\n",
    "        \n",
    "    def forward(self, X):\n",
    "        return self.layers(X)\n",
    "\n",
    "    def predict(self, X):\n",
    "        with torch.no_grad():\n",
    "            y_hat = self(X).argmax(1)\n",
    "        if self.classes is not None:\n",
    "            y_hat = [self.classes[i] for i in y_hat]\n",
    "        return y_hat\n",
    "\n",
    "    def training_step(self, batch, batch_idx, log_prefix='train'):\n",
    "        X, y = batch\n",
    "        y_hat = self(X)\n",
    "        loss_fn = nn.MSELoss()\n",
    "        loss = loss_fn(y_hat, y)\n",
    "        self.log(f\"{log_prefix}_loss\", loss, on_step=True, on_epoch=True, prog_bar=True, logger=True)\n",
    "        return loss\n",
    "\n",
    "    def validation_step(self, batch, batch_idx):\n",
    "        with torch.no_grad():\n",
    "            return self.training_step(batch, batch_idx, log_prefix='valid')\n",
    "\n",
    "    def configure_optimizers(self):\n",
    "        # Adam with Weight Decay\n",
    "        optimizer = torch.optim.AdamW(self.parameters(), lr=self.lr, weight_decay=0.01)\n",
    "\n",
    "        # Simplest scheduler is ReduceLROnPlateau. This scheduler reduces the learning rate by 0.1\n",
    "        # if the val_loss has not decreased within the last 10 epochs.\n",
    "        scheduler = {\n",
    "            # REQUIRED: The scheduler instance\n",
    "            \"scheduler\": torch.optim.lr_scheduler.ReduceLROnPlateau(optimizer, factor=0.1, patience=10, verbose=True),\n",
    "            # The unit of the scheduler's step size, could also be 'step'.\n",
    "            # 'epoch' updates the scheduler on epoch end whereas 'step'\n",
    "            # updates it after a optimizer update.\n",
    "            \"interval\": \"epoch\",\n",
    "            # How many epochs/steps should pass between calls to\n",
    "            # `scheduler.step()`. 1 corresponds to updating the learning\n",
    "            # rate after every epoch/step.\n",
    "            \"frequency\": 1,\n",
    "            # Metric to to monitor for schedulers like `ReduceLROnPlateau`\n",
    "            \"monitor\": \"val_loss\",\n",
    "            # If set to `True`, will enforce that the value specified 'monitor'\n",
    "            # is available when the scheduler is updated, thus stopping\n",
    "            # training if not found. If set to `False`, it will only produce a warning\n",
    "            \"strict\": True,\n",
    "            # If using the `LearningRateMonitor` callback to monitor the\n",
    "            # learning rate progress, this keyword can be used to specify\n",
    "            # a custom logged name\n",
    "            \"name\": None,\n",
    "        }\n",
    "        return {\"optimizer\": optimizer, 'lr-scheduler': scheduler}"
   ]
  },
  {
   "cell_type": "markdown",
   "id": "3dd9a9b5",
   "metadata": {},
   "source": [
    "## Implement model"
   ]
  },
  {
   "cell_type": "code",
   "execution_count": 17,
   "id": "be94dcd4",
   "metadata": {},
   "outputs": [],
   "source": [
    "# Implements entry to SepConv2d, see Lang et al. (2019), p. 6\n",
    "class MyEntryLayer(nn.Module):\n",
    "    def __init__(self, in_channels, out_channels):\n",
    "        super().__init__()\n",
    "        \n",
    "        self.out_channels = out_channels\n",
    "\n",
    "        self.proj_out = nn.Conv2d(in_channels, out_channels[len(out_channels)-1], (1,1))\n",
    "\n",
    "        self.entry_blocks = nn.ModuleList()\n",
    "        for i in range(len(out_channels)):\n",
    "            self.entry_blocks.append(nn.Sequential(\n",
    "                nn.Conv2d(in_channels, out_channels[i], (1, 1)),\n",
    "                nn.BatchNorm2d(out_channels[i]),\n",
    "                nn.ReLU(inplace = True)\n",
    "            ))\n",
    "            in_channels = out_channels[i]  # Update in_channels for next iteration\n",
    "\n",
    "    def forward(self, x):\n",
    "        x_entry = x\n",
    "        for i in range(len(self.out_channels)):\n",
    "            x_entry = self.entry_blocks[i](x_entry)\n",
    "        x = self.proj_out(x)\n",
    "        return (x + x_entry)"
   ]
  },
  {
   "cell_type": "code",
   "execution_count": 18,
   "id": "61d1726e",
   "metadata": {},
   "outputs": [],
   "source": [
    "# Implements SepConv2D\n",
    "class MySepConvLayer(nn.Module):\n",
    "    def __init__(self, in_channels, out_channels, kernel, **kwargs):\n",
    "        super().__init__()\n",
    "        if in_channels == out_channels:\n",
    "            self.proj_out = nn.Identity()\n",
    "        else:\n",
    "            self.proj_out = nn.Conv2d(in_channels, out_channels, (1,1), **kwargs)\n",
    "\n",
    "        self.sep_conv_block = nn.Sequential(\n",
    "            nn.ReLU(inplace = True),\n",
    "            nn.Conv2d(in_channels, in_channels, kernel, groups=in_channels, **kwargs), # depthwise SepConv\n",
    "            nn.Conv2d(in_channels, out_channels, (1,1), **kwargs), # pointwise SepConv\n",
    "            nn.BatchNorm2d(out_channels)\n",
    "        )\n",
    "    \n",
    "    def forward(self, x):\n",
    "        x_sep_conv = self.sep_conv_block(x)\n",
    "        x_sep_conv_2 = self.sep_conv_block(x_sep_conv) # performs second SepConv, see Lang et al. (2019), p. 6\n",
    "        x = self.proj_out(x)\n",
    "        return (x + x_sep_conv_2) # adds original input and sep_conv_2 output"
   ]
  },
  {
   "cell_type": "code",
   "execution_count": 19,
   "id": "823bc15c",
   "metadata": {},
   "outputs": [],
   "source": [
    "tree_model = MyCNNModel(\n",
    "    MyEntryLayer(12, [128, 256]), # increase number of channels to 512\n",
    "    MySepConvLayer(256, 256, (3,3), padding='same'),\n",
    "    MySepConvLayer(256, 256, (3,3), padding='same'),\n",
    "    MySepConvLayer(256, 256, (3,3), padding='same'),\n",
    "    nn.AdaptiveMaxPool2d(1),\n",
    "    nn.Flatten(1),\n",
    "    nn.Linear(256, 1)\n",
    ")"
   ]
  },
  {
   "cell_type": "code",
   "execution_count": 20,
   "id": "36dec192",
   "metadata": {},
   "outputs": [
    {
     "name": "stderr",
     "output_type": "stream",
     "text": [
      "Trainer already configured with model summary callbacks: [<class 'pytorch_lightning.callbacks.rich_model_summary.RichModelSummary'>]. Skipping setting a default `ModelSummary` callback.\n",
      "GPU available: False, used: False\n",
      "TPU available: False, using: 0 TPU cores\n",
      "IPU available: False, using: 0 IPUs\n",
      "HPU available: False, using: 0 HPUs\n",
      "/Users/valentinhoffmann/anaconda3/lib/python3.10/site-packages/pytorch_lightning/trainer/connectors/logger_connector/logger_connector.py:67: UserWarning: Starting from v1.9.0, `tensorboardX` has been removed as a dependency of the `pytorch_lightning` package, due to potential conflicts with other packages in the ML ecosystem. For this reason, `logger=True` will use `CSVLogger` as the default logger, unless the `tensorboard` or `tensorboardX` packages are found. Please `pip install lightning[extra]` or one of them to enable TensorBoard support by default\n",
      "  warning_cache.warn(\n"
     ]
    }
   ],
   "source": [
    "# New, we need a trainer class\n",
    "from pytorch_lightning.callbacks import RichProgressBar, RichModelSummary\n",
    "trainer1 = pl.Trainer(devices=1, accelerator=\"cpu\", precision='64', max_epochs=1,\n",
    "                      callbacks=[RichProgressBar(refresh_rate=50),\n",
    "                                 RichModelSummary(3),\n",
    "                                ])"
   ]
  },
  {
   "cell_type": "code",
   "execution_count": null,
   "id": "4795f794",
   "metadata": {},
   "outputs": [
    {
     "name": "stderr",
     "output_type": "stream",
     "text": [
      "/Users/valentinhoffmann/anaconda3/lib/python3.10/site-packages/pytorch_lightning/core/optimizer.py:384: RuntimeWarning: Found unsupported keys in the optimizer configuration: {'lr-scheduler'}\n",
      "  rank_zero_warn(\n"
     ]
    },
    {
     "data": {
      "text/html": [
       "<pre style=\"white-space:pre;overflow-x:auto;line-height:normal;font-family:Menlo,'DejaVu Sans Mono',consolas,'Courier New',monospace\">┏━━━━┳━━━━━━━━━━━━━━━━━━━━━━━━━┳━━━━━━━━━━━━━━━━━━━┳━━━━━━━━┓\n",
       "┃<span style=\"color: #800080; text-decoration-color: #800080; font-weight: bold\">    </span>┃<span style=\"color: #800080; text-decoration-color: #800080; font-weight: bold\"> Name                    </span>┃<span style=\"color: #800080; text-decoration-color: #800080; font-weight: bold\"> Type              </span>┃<span style=\"color: #800080; text-decoration-color: #800080; font-weight: bold\"> Params </span>┃\n",
       "┡━━━━╇━━━━━━━━━━━━━━━━━━━━━━━━━╇━━━━━━━━━━━━━━━━━━━╇━━━━━━━━┩\n",
       "│<span style=\"color: #7f7f7f; text-decoration-color: #7f7f7f\"> 0  </span>│ layers                  │ Sequential        │  245 K │\n",
       "│<span style=\"color: #7f7f7f; text-decoration-color: #7f7f7f\"> 1  </span>│ layers.0                │ MyEntryLayer      │ 38.8 K │\n",
       "│<span style=\"color: #7f7f7f; text-decoration-color: #7f7f7f\"> 2  </span>│ layers.0.proj_out       │ Conv2d            │  3.3 K │\n",
       "│<span style=\"color: #7f7f7f; text-decoration-color: #7f7f7f\"> 3  </span>│ layers.0.entry_blocks   │ ModuleList        │ 35.5 K │\n",
       "│<span style=\"color: #7f7f7f; text-decoration-color: #7f7f7f\"> 4  </span>│ layers.1                │ MySepConvLayer    │ 68.9 K │\n",
       "│<span style=\"color: #7f7f7f; text-decoration-color: #7f7f7f\"> 5  </span>│ layers.1.proj_out       │ Identity          │      0 │\n",
       "│<span style=\"color: #7f7f7f; text-decoration-color: #7f7f7f\"> 6  </span>│ layers.1.sep_conv_block │ Sequential        │ 68.9 K │\n",
       "│<span style=\"color: #7f7f7f; text-decoration-color: #7f7f7f\"> 7  </span>│ layers.2                │ MySepConvLayer    │ 68.9 K │\n",
       "│<span style=\"color: #7f7f7f; text-decoration-color: #7f7f7f\"> 8  </span>│ layers.2.proj_out       │ Identity          │      0 │\n",
       "│<span style=\"color: #7f7f7f; text-decoration-color: #7f7f7f\"> 9  </span>│ layers.2.sep_conv_block │ Sequential        │ 68.9 K │\n",
       "│<span style=\"color: #7f7f7f; text-decoration-color: #7f7f7f\"> 10 </span>│ layers.3                │ MySepConvLayer    │ 68.9 K │\n",
       "│<span style=\"color: #7f7f7f; text-decoration-color: #7f7f7f\"> 11 </span>│ layers.3.proj_out       │ Identity          │      0 │\n",
       "│<span style=\"color: #7f7f7f; text-decoration-color: #7f7f7f\"> 12 </span>│ layers.3.sep_conv_block │ Sequential        │ 68.9 K │\n",
       "│<span style=\"color: #7f7f7f; text-decoration-color: #7f7f7f\"> 13 </span>│ layers.4                │ AdaptiveMaxPool2d │      0 │\n",
       "│<span style=\"color: #7f7f7f; text-decoration-color: #7f7f7f\"> 14 </span>│ layers.5                │ Flatten           │      0 │\n",
       "│<span style=\"color: #7f7f7f; text-decoration-color: #7f7f7f\"> 15 </span>│ layers.6                │ Linear            │    257 │\n",
       "└────┴─────────────────────────┴───────────────────┴────────┘\n",
       "</pre>\n"
      ],
      "text/plain": [
       "┏━━━━┳━━━━━━━━━━━━━━━━━━━━━━━━━┳━━━━━━━━━━━━━━━━━━━┳━━━━━━━━┓\n",
       "┃\u001b[1;35m \u001b[0m\u001b[1;35m  \u001b[0m\u001b[1;35m \u001b[0m┃\u001b[1;35m \u001b[0m\u001b[1;35mName                   \u001b[0m\u001b[1;35m \u001b[0m┃\u001b[1;35m \u001b[0m\u001b[1;35mType             \u001b[0m\u001b[1;35m \u001b[0m┃\u001b[1;35m \u001b[0m\u001b[1;35mParams\u001b[0m\u001b[1;35m \u001b[0m┃\n",
       "┡━━━━╇━━━━━━━━━━━━━━━━━━━━━━━━━╇━━━━━━━━━━━━━━━━━━━╇━━━━━━━━┩\n",
       "│\u001b[2m \u001b[0m\u001b[2m0 \u001b[0m\u001b[2m \u001b[0m│ layers                  │ Sequential        │  245 K │\n",
       "│\u001b[2m \u001b[0m\u001b[2m1 \u001b[0m\u001b[2m \u001b[0m│ layers.0                │ MyEntryLayer      │ 38.8 K │\n",
       "│\u001b[2m \u001b[0m\u001b[2m2 \u001b[0m\u001b[2m \u001b[0m│ layers.0.proj_out       │ Conv2d            │  3.3 K │\n",
       "│\u001b[2m \u001b[0m\u001b[2m3 \u001b[0m\u001b[2m \u001b[0m│ layers.0.entry_blocks   │ ModuleList        │ 35.5 K │\n",
       "│\u001b[2m \u001b[0m\u001b[2m4 \u001b[0m\u001b[2m \u001b[0m│ layers.1                │ MySepConvLayer    │ 68.9 K │\n",
       "│\u001b[2m \u001b[0m\u001b[2m5 \u001b[0m\u001b[2m \u001b[0m│ layers.1.proj_out       │ Identity          │      0 │\n",
       "│\u001b[2m \u001b[0m\u001b[2m6 \u001b[0m\u001b[2m \u001b[0m│ layers.1.sep_conv_block │ Sequential        │ 68.9 K │\n",
       "│\u001b[2m \u001b[0m\u001b[2m7 \u001b[0m\u001b[2m \u001b[0m│ layers.2                │ MySepConvLayer    │ 68.9 K │\n",
       "│\u001b[2m \u001b[0m\u001b[2m8 \u001b[0m\u001b[2m \u001b[0m│ layers.2.proj_out       │ Identity          │      0 │\n",
       "│\u001b[2m \u001b[0m\u001b[2m9 \u001b[0m\u001b[2m \u001b[0m│ layers.2.sep_conv_block │ Sequential        │ 68.9 K │\n",
       "│\u001b[2m \u001b[0m\u001b[2m10\u001b[0m\u001b[2m \u001b[0m│ layers.3                │ MySepConvLayer    │ 68.9 K │\n",
       "│\u001b[2m \u001b[0m\u001b[2m11\u001b[0m\u001b[2m \u001b[0m│ layers.3.proj_out       │ Identity          │      0 │\n",
       "│\u001b[2m \u001b[0m\u001b[2m12\u001b[0m\u001b[2m \u001b[0m│ layers.3.sep_conv_block │ Sequential        │ 68.9 K │\n",
       "│\u001b[2m \u001b[0m\u001b[2m13\u001b[0m\u001b[2m \u001b[0m│ layers.4                │ AdaptiveMaxPool2d │      0 │\n",
       "│\u001b[2m \u001b[0m\u001b[2m14\u001b[0m\u001b[2m \u001b[0m│ layers.5                │ Flatten           │      0 │\n",
       "│\u001b[2m \u001b[0m\u001b[2m15\u001b[0m\u001b[2m \u001b[0m│ layers.6                │ Linear            │    257 │\n",
       "└────┴─────────────────────────┴───────────────────┴────────┘\n"
      ]
     },
     "metadata": {},
     "output_type": "display_data"
    },
    {
     "data": {
      "text/html": [
       "<pre style=\"white-space:pre;overflow-x:auto;line-height:normal;font-family:Menlo,'DejaVu Sans Mono',consolas,'Courier New',monospace\"><span style=\"font-weight: bold\">Trainable params</span>: 245 K                                                                                            \n",
       "<span style=\"font-weight: bold\">Non-trainable params</span>: 0                                                                                            \n",
       "<span style=\"font-weight: bold\">Total params</span>: 245 K                                                                                                \n",
       "<span style=\"font-weight: bold\">Total estimated model params size (MB)</span>: 1                                                                          \n",
       "</pre>\n"
      ],
      "text/plain": [
       "\u001b[1mTrainable params\u001b[0m: 245 K                                                                                            \n",
       "\u001b[1mNon-trainable params\u001b[0m: 0                                                                                            \n",
       "\u001b[1mTotal params\u001b[0m: 245 K                                                                                                \n",
       "\u001b[1mTotal estimated model params size (MB)\u001b[0m: 1                                                                          \n"
      ]
     },
     "metadata": {},
     "output_type": "display_data"
    },
    {
     "data": {
      "application/vnd.jupyter.widget-view+json": {
       "model_id": "c05d7840b57e4faf9fd8e49cbbd0700b",
       "version_major": 2,
       "version_minor": 0
      },
      "text/plain": [
       "Output()"
      ]
     },
     "metadata": {},
     "output_type": "display_data"
    },
    {
     "name": "stderr",
     "output_type": "stream",
     "text": [
      "Traceback (most recent call last):\n",
      "  File \"<string>\", line 1, in <module>\n",
      "  File \"/Users/valentinhoffmann/anaconda3/lib/python3.10/multiprocessing/spawn.py\", line 116, in spawn_main\n",
      "    exitcode = _main(fd, parent_sentinel)\n",
      "  File \"/Users/valentinhoffmann/anaconda3/lib/python3.10/multiprocessing/spawn.py\", line 126, in _main\n",
      "    self = reduction.pickle.load(from_parent)\n",
      "AttributeError: Can't get attribute 'CustomDataset' on <module '__main__' (built-in)>\n"
     ]
    }
   ],
   "source": [
    "trainer1.fit(tree_model, trainloader, validloader)"
   ]
  },
  {
   "cell_type": "code",
   "execution_count": null,
   "id": "f0b50a62",
   "metadata": {},
   "outputs": [],
   "source": [
    "tree_model.eval()\n",
    "tree_model = tree_model.float()\n",
    "batch = next(iter(trainloader))\n",
    "inputs = batch[0]\n",
    "inputs = inputs.float()\n",
    "\n",
    "print(inputs.shape)\n",
    "\n",
    "\n",
    "with torch.no_grad():\n",
    "    predictions = tree_model(inputs)\n",
    "\n",
    "\n",
    "print(\"Predictions:\", predictions)\n",
    "# expected 128 pictures, each with 15 * 15 predictions for height ! "
   ]
  }
 ],
 "metadata": {
  "kernelspec": {
   "display_name": "Python 3 (ipykernel)",
   "language": "python",
   "name": "python3"
  },
  "language_info": {
   "codemirror_mode": {
    "name": "ipython",
    "version": 3
   },
   "file_extension": ".py",
   "mimetype": "text/x-python",
   "name": "python",
   "nbconvert_exporter": "python",
   "pygments_lexer": "ipython3",
   "version": "3.10.9"
  }
 },
 "nbformat": 4,
 "nbformat_minor": 5
}
