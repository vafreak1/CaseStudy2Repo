{
 "cells": [
  {
   "cell_type": "code",
   "execution_count": 1,
   "id": "2442d2f5",
   "metadata": {},
   "outputs": [],
   "source": [
    "import numpy as np\n",
    "import matplotlib.pyplot as plt\n",
    "import os\n",
    "import sys\n",
    "import csv\n",
    "import math\n",
    "import torch, torch.nn as nn, torch.nn.functional as F\n",
    "from torch.utils.data import DataLoader, Dataset, random_split\n",
    "from torchvision import datasets, transforms\n",
    "from tqdm import tqdm\n",
    "import pytorch_lightning as pl\n",
    "import glob"
   ]
  },
  {
   "cell_type": "markdown",
   "id": "eb7d6fef",
   "metadata": {},
   "source": [
    "## First, we slice the train images into 31 x 31 pixels with the ground truth in the middle"
   ]
  },
  {
   "cell_type": "code",
   "execution_count": 2,
   "id": "d52ff711",
   "metadata": {},
   "outputs": [],
   "source": [
    "def ndigit(n, x):\n",
    "    x = str(x)\n",
    "    while(len(x) < n):\n",
    "        x = \"0\" + x\n",
    "    return x"
   ]
  },
  {
   "cell_type": "code",
   "execution_count": 3,
   "id": "ef62c4af",
   "metadata": {},
   "outputs": [],
   "source": [
    "def load_data(res, files = 20):\n",
    "    j = 0\n",
    "    path = [\"train\", \"02\"]\n",
    "    res = int((res-1)/2)\n",
    "    \n",
    "    for p in path:\n",
    "        for f in range(files):\n",
    "            image = np.load(f\"images_{p}/images/image_{ndigit(3, f)}.npy\")\n",
    "            mask = np.load(f\"masks_{p}/masks/mask_{ndigit(3, f)}.npy\")\n",
    "            image = np.reshape(image, (1024,1024,10))\n",
    "            mask = np.reshape(mask, (1024,1024,1))\n",
    "            ground_truths_pos = np.array(np.where(mask != 0)).T\n",
    "\n",
    "            # Add padding to every image edge in case there are ground truths which are too close to an edge\n",
    "            padded_image = np.pad(image, ((res, res), (res, res), (0,0)), mode='constant') \n",
    "            \n",
    "            # Slice and save image\n",
    "            for i in ground_truths_pos: \n",
    "                patch = (padded_image[i[0]-res : i[0]+res+1, i[1]-res : i[1]+res+1, :], np.array(mask[i[0], i[1], 0]))\n",
    "                np.save(f\"patches/train/patch_{ndigit(5, j)}.npy\", np.array(patch, dtype=\"object\"))                                 \n",
    "                j += 1"
   ]
  },
  {
   "cell_type": "code",
   "execution_count": 4,
   "id": "31235460",
   "metadata": {},
   "outputs": [
    {
     "name": "stdout",
     "output_type": "stream",
     "text": [
      "6624\n"
     ]
    }
   ],
   "source": [
    "# Check number of ground truths\n",
    "pos = 0\n",
    "for i in range(20):\n",
    "    mask = np.load(f\"masks_02/masks/mask_{ndigit(3, i)}.npy\")\n",
    "    ground_truths_pos = np.array(np.where(mask != 0)).T\n",
    "    pos = pos + len(ground_truths_pos)\n",
    "print(pos)"
   ]
  },
  {
   "cell_type": "code",
   "execution_count": 5,
   "id": "5fce53c0",
   "metadata": {},
   "outputs": [],
   "source": [
    "res = 15\n",
    "load_data(res)"
   ]
  },
  {
   "cell_type": "markdown",
   "id": "899b7cd4",
   "metadata": {},
   "source": [
    "## Then, we load the data and have a look"
   ]
  },
  {
   "cell_type": "code",
   "execution_count": 6,
   "id": "3ca66217",
   "metadata": {},
   "outputs": [],
   "source": [
    "batch_size = 128"
   ]
  },
  {
   "cell_type": "code",
   "execution_count": 7,
   "id": "9b0bff0d",
   "metadata": {},
   "outputs": [
    {
     "name": "stdout",
     "output_type": "stream",
     "text": [
      "38194\n"
     ]
    }
   ],
   "source": [
    "directory = 'patches/train'\n",
    "file_paths = glob.glob(directory + '/*.npy')\n",
    "trainset0 = [np.load(file_path, allow_pickle=True) for file_path in file_paths]\n",
    "#delete every image that doesnt have the correct shape (!THIS MIGHT BE A REAL PROBLEM THAT NEEDS TO BE FIXED PROPERLY LATER!)\n",
    "trainset = []\n",
    "for pic in trainset0:\n",
    "    if pic[0].shape == (res,res,10):\n",
    "        trainset.append(pic)\n",
    "print(len(trainset)) # Anzahl patches = 38862, d. h. es haben \"nur\" 668 fehlerhafte Dimensionen"
   ]
  },
  {
   "cell_type": "code",
   "execution_count": 8,
   "id": "9f71785f",
   "metadata": {},
   "outputs": [
    {
     "name": "stdout",
     "output_type": "stream",
     "text": [
      "674\n"
     ]
    }
   ],
   "source": [
    "print(trainset[0][0][12][3][9])"
   ]
  },
  {
   "cell_type": "code",
   "execution_count": 9,
   "id": "ed9c374b",
   "metadata": {},
   "outputs": [],
   "source": [
    "def enrich_channels(trainset, veggie, moisture):\n",
    "    #trainset[pic_no][0][h][w][channel] -> pixel value\n",
    "    print(f\"Shape vorher: Liste mit ({res},{res},10) Bildern\")\n",
    "    counter = 0\n",
    "    trainset = trainset.copy()  # Make a copy of the trainset\n",
    "\n",
    "    if veggie:\n",
    "        pic_no = 0\n",
    "        for pic in trainset:\n",
    "            counter += 1\n",
    "            pixel_values = pic[0]\n",
    "            channel8 = pixel_values[:, :, 7]\n",
    "            channel4 = pixel_values[:, :, 3]\n",
    "            channels = pic[0].shape[2]\n",
    "            width = pic[0].shape[0]\n",
    "            height = pic[0].shape[1]\n",
    "\n",
    "            vegetation_array = np.divide((np.subtract(channel8, channel4)), np.add(channel8, channel4))\n",
    "            trainset_transformed = np.concatenate((trainset[pic_no][0], vegetation_array[:, :, np.newaxis]), axis=2)\n",
    "            trainset[pic_no] = (trainset_transformed, trainset[pic_no][1])\n",
    "            pic_no += 1\n",
    "\n",
    "        print(\"Added Vegetation (B8-B4)/(B8+B4)\")\n",
    "\n",
    "    if moisture:\n",
    "        pic_no = 0\n",
    "        for pic in trainset:\n",
    "            pixel_values = pic[0]\n",
    "            channel8a = pixel_values[:, :, 7]\n",
    "            channel11 = pixel_values[:, :, 8]\n",
    "            channels = pic[0].shape[2]\n",
    "            width = pic[0].shape[0]\n",
    "            height = pic[0].shape[1]\n",
    "\n",
    "            moisture_array = np.divide((np.subtract(channel8a, channel11)), np.add(channel8a, channel11))\n",
    "            trainset_transformed = np.concatenate((trainset[pic_no][0], moisture_array[:, :, np.newaxis]), axis=2)\n",
    "            trainset[pic_no] = (trainset_transformed, trainset[pic_no][1])\n",
    "            pic_no += 1\n",
    "\n",
    "        print(\"Added Moisture (B8A-B11)/(B8A+B11)\")\n",
    "        \n",
    "    print(\"shape nachher\", trainset[0][0].shape)  # Print the shape of the first item\n",
    "\n",
    "    return trainset"
   ]
  },
  {
   "cell_type": "code",
   "execution_count": 10,
   "id": "8d4d8018",
   "metadata": {},
   "outputs": [
    {
     "name": "stdout",
     "output_type": "stream",
     "text": [
      "Shape vorher: Liste mit (15,15,10) Bildern\n"
     ]
    },
    {
     "name": "stderr",
     "output_type": "stream",
     "text": [
      "/var/folders/8w/vxj71qs163b3nd515vcdbpbc0000gn/T/ipykernel_4502/950853731.py:18: RuntimeWarning: invalid value encountered in divide\n",
      "  vegetation_array = np.divide((np.subtract(channel8, channel4)), np.add(channel8, channel4))\n"
     ]
    },
    {
     "name": "stdout",
     "output_type": "stream",
     "text": [
      "Added Vegetation (B8-B4)/(B8+B4)\n"
     ]
    },
    {
     "name": "stderr",
     "output_type": "stream",
     "text": [
      "/var/folders/8w/vxj71qs163b3nd515vcdbpbc0000gn/T/ipykernel_4502/950853731.py:35: RuntimeWarning: invalid value encountered in divide\n",
      "  moisture_array = np.divide((np.subtract(channel8a, channel11)), np.add(channel8a, channel11))\n"
     ]
    },
    {
     "name": "stdout",
     "output_type": "stream",
     "text": [
      "Added Moisture (B8A-B11)/(B8A+B11)\n",
      "shape nachher (15, 15, 12)\n"
     ]
    }
   ],
   "source": [
    "trainset = enrich_channels(trainset, True, True)\n",
    "#trainset[pic_no][0][h][w][channel] -> pixel value\n",
    "#trainset[pic_no][1] -> Ground truth "
   ]
  },
  {
   "cell_type": "code",
   "execution_count": 11,
   "id": "541939c9",
   "metadata": {},
   "outputs": [
    {
     "data": {
      "text/plain": [
       "(15, 15, 12)"
      ]
     },
     "execution_count": 11,
     "metadata": {},
     "output_type": "execute_result"
    }
   ],
   "source": [
    "X,y = trainset[0]\n",
    "X.shape"
   ]
  },
  {
   "cell_type": "code",
   "execution_count": 12,
   "id": "0a187451",
   "metadata": {},
   "outputs": [],
   "source": [
    "class CustomDataset(Dataset):\n",
    "    def __init__(self, trainset, transform):\n",
    "        self.trainset = trainset\n",
    "        self.transform = transform\n",
    "\n",
    "    def __len__(self):\n",
    "        return len(self.trainset)\n",
    "\n",
    "    def __getitem__(self, index):\n",
    "        data, target = self.trainset[index]\n",
    "\n",
    "        if self.transform:\n",
    "            data = self.transform(data)\n",
    "\n",
    "        return data, target\n",
    "\n",
    "transform = transforms.Compose(\n",
    "    [transforms.ToTensor(),\n",
    "     transforms.ConvertImageDtype(torch.float),\n",
    "     transforms.Lambda(lambda x : x / 3000),\n",
    "     transforms.Lambda(lambda x : torch.where(x > 1, 1, x)), # clip images between 0 and 1\n",
    "     transforms.Normalize(mean=(0.5,)*12,\n",
    "                          std=(0.5,)*12)\n",
    "     ])"
   ]
  },
  {
   "cell_type": "code",
   "execution_count": 13,
   "id": "e78ba3b8",
   "metadata": {},
   "outputs": [
    {
     "data": {
      "text/plain": [
       "torch.Size([12, 15, 15])"
      ]
     },
     "execution_count": 13,
     "metadata": {},
     "output_type": "execute_result"
    }
   ],
   "source": [
    "# Create the custom dataset\n",
    "custom_dataset = CustomDataset(trainset, transform=transform)\n",
    "\n",
    "custom_dataset[0][0].shape"
   ]
  },
  {
   "cell_type": "code",
   "execution_count": 14,
   "id": "e8f4492a",
   "metadata": {},
   "outputs": [],
   "source": [
    "# Calculate the sizes of the training set and validation set\n",
    "train_size = int(0.8 * len(trainset))\n",
    "val_size = len(trainset) - train_size\n",
    "\n",
    "# Split trainset into trainset and valset\n",
    "trainset, valset = random_split(custom_dataset, [train_size, val_size])\n",
    "\n",
    "# Create data loaders for the training set and validation set\n",
    "trainloader = DataLoader(trainset, batch_size=batch_size, shuffle=True, num_workers=0)\n",
    "validloader = DataLoader(valset, batch_size=batch_size, shuffle=True, num_workers=0)\n"
   ]
  },
  {
   "cell_type": "markdown",
   "id": "93ab30c0",
   "metadata": {},
   "source": [
    "## Next, we define the model and train it"
   ]
  },
  {
   "cell_type": "code",
   "execution_count": 15,
   "id": "1d6a1aaa",
   "metadata": {},
   "outputs": [],
   "source": [
    "class MyCNNModel(pl.LightningModule): # New! def init(self, layers, lr=0.01, classes=None): super().init() # <- Very important! self.lr = lr self.classes = classes ## Build model self.layers = nn.Sequential(layers) # Create a sequential model\n",
    "\n",
    "    def __init__(self, *layers, classes=None):\n",
    "        super().__init__()\n",
    "\n",
    "        self.lr = 0.01  # Assign the learning rate here\n",
    "        self.classes = classes\n",
    "\n",
    "        self.layers = nn.Sequential(*layers)  # Create a sequential model\n",
    "        \n",
    "    def forward(self, X):\n",
    "        print(\"forward:\", X.shape)\n",
    "        return self.layers(X)\n",
    "\n",
    "    def predict(self, X):\n",
    "        with torch.no_grad():\n",
    "            y_hat = self(X).argmax(1)\n",
    "        if self.classes is not None:\n",
    "            y_hat = [self.classes[i] for i in y_hat]\n",
    "        return y_hat\n",
    "\n",
    "    def training_step(self, batch, batch_idx, log_prefix='train'): # New !\n",
    "        X, y = batch\n",
    "        y_hat = self(X)\n",
    "        loss_fn = nn.MSELoss()\n",
    "        loss = loss_fn(y_hat, y)\n",
    "        self.log(f\"{log_prefix}_loss\", loss, on_step=True, on_epoch=True, prog_bar=True, logger=True)\n",
    "        return loss\n",
    "\n",
    "    def validation_step(self, batch, batch_idx): # New!\n",
    "        with torch.no_grad():\n",
    "            return self.training_step(batch, batch_idx, log_prefix='valid')\n",
    "\n",
    "    def configure_optimizers(self):\n",
    "        # Adam with Weight Decay (Most commonly used)\n",
    "        optimizer = torch.optim.AdamW(self.parameters(), lr=self.lr, weight_decay=0.01)\n",
    "\n",
    "        # Simplest scheduler is ReduceLROnPlateau. This scheduler reduces the learning rate by 0.1\n",
    "        # if the val_loss has not decreased within the last 10 epochs.\n",
    "        scheduler = {\n",
    "            # REQUIRED: The scheduler instance\n",
    "            \"scheduler\": torch.optim.lr_scheduler.ReduceLROnPlateau(optimizer, factor=0.1, patience=10, verbose=True),\n",
    "            # The unit of the scheduler's step size, could also be 'step'.\n",
    "            # 'epoch' updates the scheduler on epoch end whereas 'step'\n",
    "            # updates it after a optimizer update.\n",
    "            \"interval\": \"epoch\",\n",
    "            # How many epochs/steps should pass between calls to\n",
    "            # `scheduler.step()`. 1 corresponds to updating the learning\n",
    "            # rate after every epoch/step.\n",
    "            \"frequency\": 1,\n",
    "            # Metric to to monitor for schedulers like `ReduceLROnPlateau`\n",
    "            \"monitor\": \"val_loss\",\n",
    "            # If set to `True`, will enforce that the value specified 'monitor'\n",
    "            # is available when the scheduler is updated, thus stopping\n",
    "            # training if not found. If set to `False`, it will only produce a warning\n",
    "            \"strict\": True,\n",
    "            # If using the `LearningRateMonitor` callback to monitor the\n",
    "            # learning rate progress, this keyword can be used to specify\n",
    "            # a custom logged name\n",
    "            \"name\": None,\n",
    "        }\n",
    "        return {\"optimizer\": optimizer, 'lr-scheduler': scheduler}"
   ]
  },
  {
   "cell_type": "markdown",
   "id": "3dd9a9b5",
   "metadata": {},
   "source": [
    "## Implement model"
   ]
  },
  {
   "cell_type": "code",
   "execution_count": 16,
   "id": "be94dcd4",
   "metadata": {},
   "outputs": [],
   "source": [
    "# Implements entry to SepConv2d, see Lang et al. (2019), p. 6\n",
    "class MyEntryLayer(nn.Module):\n",
    "    def __init__(self, in_channels, out_channels):\n",
    "        super().__init__()\n",
    "        \n",
    "        print(\"out channels:\", out_channels)\n",
    "        print(\"in channels:\", in_channels)\n",
    "        self.out_channels = out_channels\n",
    "\n",
    "        self.proj_out = nn.Conv2d(in_channels, out_channels[len(out_channels)-1], (1,1))\n",
    "\n",
    "        self.entry_blocks = nn.ModuleList()\n",
    "        for i in range(len(out_channels)):\n",
    "            self.entry_blocks.append(nn.Sequential(\n",
    "                nn.Conv2d(in_channels, out_channels[i], (1, 1)),\n",
    "                nn.BatchNorm2d(out_channels[i]),\n",
    "                nn.ReLU()\n",
    "            ))\n",
    "            in_channels = out_channels[i]  # Update in_channels for next iteration\n",
    "\n",
    "    def forward(self, x):\n",
    "        x_entry = x\n",
    "        for i in range(len(self.out_channels)):\n",
    "            x_entry = self.entry_blocks[i](x_entry)\n",
    "        x = self.proj_out(x)\n",
    "        return (x + x_entry)"
   ]
  },
  {
   "cell_type": "code",
   "execution_count": 17,
   "id": "61d1726e",
   "metadata": {},
   "outputs": [],
   "source": [
    "# Implements SepConv2D\n",
    "class MySepConvLayer(nn.Module):\n",
    "    def __init__(self, in_channels, out_channels, kernel, **kwargs):\n",
    "        super().__init__()\n",
    "        if in_channels == out_channels:\n",
    "            self.proj_out = nn.Identity()\n",
    "        else:\n",
    "            self.proj_out = nn.Conv2d(in_channels, out_channels, (1,1), **kwargs)\n",
    "\n",
    "        self.sep_conv_block = nn.Sequential(\n",
    "            nn.ReLU(),\n",
    "            nn.Conv2d(in_channels, in_channels, kernel, groups=in_channels, **kwargs), # depthwise SepConv\n",
    "            nn.Conv2d(in_channels, out_channels, (1,1), **kwargs), # pointwise SepConv\n",
    "            nn.BatchNorm2d(out_channels)\n",
    "        )\n",
    "    \n",
    "    def forward(self, x):\n",
    "        x_sep_conv = self.sep_conv_block(x)\n",
    "        x_sep_conv_2 = self.sep_conv_block(x_sep_conv) # performs second SepConv, see Lang et al. (2019), p. 6\n",
    "        x = self.proj_out(x)\n",
    "        return (x + x_sep_conv_2) # adds original input and sep_conv_2 output"
   ]
  },
  {
   "cell_type": "code",
   "execution_count": 18,
   "id": "823bc15c",
   "metadata": {},
   "outputs": [
    {
     "name": "stdout",
     "output_type": "stream",
     "text": [
      "out channels: [128, 256, 512]\n",
      "in channels: 12\n"
     ]
    }
   ],
   "source": [
    "tree_model = MyCNNModel(\n",
    "    MyEntryLayer(12, [128, 256, 512]), # increase number of channels to 512\n",
    "    MySepConvLayer(512, 512, (3,3), padding='same'),\n",
    "    MySepConvLayer(512, 512, (3,3), padding='same'),\n",
    "    MySepConvLayer(512, 512, (3,3), padding='same'),\n",
    "    MySepConvLayer(512, 512, (3,3), padding='same'),\n",
    "    MySepConvLayer(512, 512, (3,3), padding='same'),\n",
    "    MySepConvLayer(512, 512, (3,3), padding='same'),\n",
    "    nn.AdaptiveMaxPool2d(1),\n",
    "    nn.Flatten(1),\n",
    "    nn.Linear(512, 1)\n",
    ")"
   ]
  },
  {
   "cell_type": "code",
   "execution_count": 19,
   "id": "36dec192",
   "metadata": {},
   "outputs": [
    {
     "name": "stderr",
     "output_type": "stream",
     "text": [
      "Trainer already configured with model summary callbacks: [<class 'pytorch_lightning.callbacks.rich_model_summary.RichModelSummary'>]. Skipping setting a default `ModelSummary` callback.\n",
      "GPU available: False, used: False\n",
      "TPU available: False, using: 0 TPU cores\n",
      "IPU available: False, using: 0 IPUs\n",
      "HPU available: False, using: 0 HPUs\n",
      "/Users/valentinhoffmann/anaconda3/lib/python3.10/site-packages/pytorch_lightning/trainer/connectors/logger_connector/logger_connector.py:67: UserWarning: Starting from v1.9.0, `tensorboardX` has been removed as a dependency of the `pytorch_lightning` package, due to potential conflicts with other packages in the ML ecosystem. For this reason, `logger=True` will use `CSVLogger` as the default logger, unless the `tensorboard` or `tensorboardX` packages are found. Please `pip install lightning[extra]` or one of them to enable TensorBoard support by default\n",
      "  warning_cache.warn(\n"
     ]
    }
   ],
   "source": [
    "# New, we need a trainer class\n",
    "from pytorch_lightning.callbacks import RichProgressBar, RichModelSummary\n",
    "trainer1 = pl.Trainer(devices=1, accelerator=\"cpu\", precision='64', max_epochs=1,\n",
    "                      callbacks=[RichProgressBar(refresh_rate=50),\n",
    "                                 RichModelSummary(3),\n",
    "                                ])"
   ]
  },
  {
   "cell_type": "code",
   "execution_count": null,
   "id": "4795f794",
   "metadata": {},
   "outputs": [
    {
     "name": "stderr",
     "output_type": "stream",
     "text": [
      "/Users/valentinhoffmann/anaconda3/lib/python3.10/site-packages/pytorch_lightning/core/optimizer.py:384: RuntimeWarning: Found unsupported keys in the optimizer configuration: {'lr-scheduler'}\n",
      "  rank_zero_warn(\n"
     ]
    },
    {
     "data": {
      "text/html": [
       "<pre style=\"white-space:pre;overflow-x:auto;line-height:normal;font-family:Menlo,'DejaVu Sans Mono',consolas,'Courier New',monospace\">┏━━━━┳━━━━━━━━━━━━━━━━━━━━━━━━━┳━━━━━━━━━━━━━━━━━━━┳━━━━━━━━┓\n",
       "┃<span style=\"color: #800080; text-decoration-color: #800080; font-weight: bold\">    </span>┃<span style=\"color: #800080; text-decoration-color: #800080; font-weight: bold\"> Name                    </span>┃<span style=\"color: #800080; text-decoration-color: #800080; font-weight: bold\"> Type              </span>┃<span style=\"color: #800080; text-decoration-color: #800080; font-weight: bold\"> Params </span>┃\n",
       "┡━━━━╇━━━━━━━━━━━━━━━━━━━━━━━━━╇━━━━━━━━━━━━━━━━━━━╇━━━━━━━━┩\n",
       "│<span style=\"color: #7f7f7f; text-decoration-color: #7f7f7f\"> 0  </span>│ layers                  │ Sequential        │  1.8 M │\n",
       "│<span style=\"color: #7f7f7f; text-decoration-color: #7f7f7f\"> 1  </span>│ layers.0                │ MyEntryLayer      │  174 K │\n",
       "│<span style=\"color: #7f7f7f; text-decoration-color: #7f7f7f\"> 2  </span>│ layers.0.proj_out       │ Conv2d            │  6.7 K │\n",
       "│<span style=\"color: #7f7f7f; text-decoration-color: #7f7f7f\"> 3  </span>│ layers.0.entry_blocks   │ ModuleList        │  168 K │\n",
       "│<span style=\"color: #7f7f7f; text-decoration-color: #7f7f7f\"> 4  </span>│ layers.1                │ MySepConvLayer    │  268 K │\n",
       "│<span style=\"color: #7f7f7f; text-decoration-color: #7f7f7f\"> 5  </span>│ layers.1.proj_out       │ Identity          │      0 │\n",
       "│<span style=\"color: #7f7f7f; text-decoration-color: #7f7f7f\"> 6  </span>│ layers.1.sep_conv_block │ Sequential        │  268 K │\n",
       "│<span style=\"color: #7f7f7f; text-decoration-color: #7f7f7f\"> 7  </span>│ layers.2                │ MySepConvLayer    │  268 K │\n",
       "│<span style=\"color: #7f7f7f; text-decoration-color: #7f7f7f\"> 8  </span>│ layers.2.proj_out       │ Identity          │      0 │\n",
       "│<span style=\"color: #7f7f7f; text-decoration-color: #7f7f7f\"> 9  </span>│ layers.2.sep_conv_block │ Sequential        │  268 K │\n",
       "│<span style=\"color: #7f7f7f; text-decoration-color: #7f7f7f\"> 10 </span>│ layers.3                │ MySepConvLayer    │  268 K │\n",
       "│<span style=\"color: #7f7f7f; text-decoration-color: #7f7f7f\"> 11 </span>│ layers.3.proj_out       │ Identity          │      0 │\n",
       "│<span style=\"color: #7f7f7f; text-decoration-color: #7f7f7f\"> 12 </span>│ layers.3.sep_conv_block │ Sequential        │  268 K │\n",
       "│<span style=\"color: #7f7f7f; text-decoration-color: #7f7f7f\"> 13 </span>│ layers.4                │ MySepConvLayer    │  268 K │\n",
       "│<span style=\"color: #7f7f7f; text-decoration-color: #7f7f7f\"> 14 </span>│ layers.4.proj_out       │ Identity          │      0 │\n",
       "│<span style=\"color: #7f7f7f; text-decoration-color: #7f7f7f\"> 15 </span>│ layers.4.sep_conv_block │ Sequential        │  268 K │\n",
       "│<span style=\"color: #7f7f7f; text-decoration-color: #7f7f7f\"> 16 </span>│ layers.5                │ MySepConvLayer    │  268 K │\n",
       "│<span style=\"color: #7f7f7f; text-decoration-color: #7f7f7f\"> 17 </span>│ layers.5.proj_out       │ Identity          │      0 │\n",
       "│<span style=\"color: #7f7f7f; text-decoration-color: #7f7f7f\"> 18 </span>│ layers.5.sep_conv_block │ Sequential        │  268 K │\n",
       "│<span style=\"color: #7f7f7f; text-decoration-color: #7f7f7f\"> 19 </span>│ layers.6                │ MySepConvLayer    │  268 K │\n",
       "│<span style=\"color: #7f7f7f; text-decoration-color: #7f7f7f\"> 20 </span>│ layers.6.proj_out       │ Identity          │      0 │\n",
       "│<span style=\"color: #7f7f7f; text-decoration-color: #7f7f7f\"> 21 </span>│ layers.6.sep_conv_block │ Sequential        │  268 K │\n",
       "│<span style=\"color: #7f7f7f; text-decoration-color: #7f7f7f\"> 22 </span>│ layers.7                │ AdaptiveMaxPool2d │      0 │\n",
       "│<span style=\"color: #7f7f7f; text-decoration-color: #7f7f7f\"> 23 </span>│ layers.8                │ Flatten           │      0 │\n",
       "│<span style=\"color: #7f7f7f; text-decoration-color: #7f7f7f\"> 24 </span>│ layers.9                │ Linear            │    513 │\n",
       "└────┴─────────────────────────┴───────────────────┴────────┘\n",
       "</pre>\n"
      ],
      "text/plain": [
       "┏━━━━┳━━━━━━━━━━━━━━━━━━━━━━━━━┳━━━━━━━━━━━━━━━━━━━┳━━━━━━━━┓\n",
       "┃\u001b[1;35m \u001b[0m\u001b[1;35m  \u001b[0m\u001b[1;35m \u001b[0m┃\u001b[1;35m \u001b[0m\u001b[1;35mName                   \u001b[0m\u001b[1;35m \u001b[0m┃\u001b[1;35m \u001b[0m\u001b[1;35mType             \u001b[0m\u001b[1;35m \u001b[0m┃\u001b[1;35m \u001b[0m\u001b[1;35mParams\u001b[0m\u001b[1;35m \u001b[0m┃\n",
       "┡━━━━╇━━━━━━━━━━━━━━━━━━━━━━━━━╇━━━━━━━━━━━━━━━━━━━╇━━━━━━━━┩\n",
       "│\u001b[2m \u001b[0m\u001b[2m0 \u001b[0m\u001b[2m \u001b[0m│ layers                  │ Sequential        │  1.8 M │\n",
       "│\u001b[2m \u001b[0m\u001b[2m1 \u001b[0m\u001b[2m \u001b[0m│ layers.0                │ MyEntryLayer      │  174 K │\n",
       "│\u001b[2m \u001b[0m\u001b[2m2 \u001b[0m\u001b[2m \u001b[0m│ layers.0.proj_out       │ Conv2d            │  6.7 K │\n",
       "│\u001b[2m \u001b[0m\u001b[2m3 \u001b[0m\u001b[2m \u001b[0m│ layers.0.entry_blocks   │ ModuleList        │  168 K │\n",
       "│\u001b[2m \u001b[0m\u001b[2m4 \u001b[0m\u001b[2m \u001b[0m│ layers.1                │ MySepConvLayer    │  268 K │\n",
       "│\u001b[2m \u001b[0m\u001b[2m5 \u001b[0m\u001b[2m \u001b[0m│ layers.1.proj_out       │ Identity          │      0 │\n",
       "│\u001b[2m \u001b[0m\u001b[2m6 \u001b[0m\u001b[2m \u001b[0m│ layers.1.sep_conv_block │ Sequential        │  268 K │\n",
       "│\u001b[2m \u001b[0m\u001b[2m7 \u001b[0m\u001b[2m \u001b[0m│ layers.2                │ MySepConvLayer    │  268 K │\n",
       "│\u001b[2m \u001b[0m\u001b[2m8 \u001b[0m\u001b[2m \u001b[0m│ layers.2.proj_out       │ Identity          │      0 │\n",
       "│\u001b[2m \u001b[0m\u001b[2m9 \u001b[0m\u001b[2m \u001b[0m│ layers.2.sep_conv_block │ Sequential        │  268 K │\n",
       "│\u001b[2m \u001b[0m\u001b[2m10\u001b[0m\u001b[2m \u001b[0m│ layers.3                │ MySepConvLayer    │  268 K │\n",
       "│\u001b[2m \u001b[0m\u001b[2m11\u001b[0m\u001b[2m \u001b[0m│ layers.3.proj_out       │ Identity          │      0 │\n",
       "│\u001b[2m \u001b[0m\u001b[2m12\u001b[0m\u001b[2m \u001b[0m│ layers.3.sep_conv_block │ Sequential        │  268 K │\n",
       "│\u001b[2m \u001b[0m\u001b[2m13\u001b[0m\u001b[2m \u001b[0m│ layers.4                │ MySepConvLayer    │  268 K │\n",
       "│\u001b[2m \u001b[0m\u001b[2m14\u001b[0m\u001b[2m \u001b[0m│ layers.4.proj_out       │ Identity          │      0 │\n",
       "│\u001b[2m \u001b[0m\u001b[2m15\u001b[0m\u001b[2m \u001b[0m│ layers.4.sep_conv_block │ Sequential        │  268 K │\n",
       "│\u001b[2m \u001b[0m\u001b[2m16\u001b[0m\u001b[2m \u001b[0m│ layers.5                │ MySepConvLayer    │  268 K │\n",
       "│\u001b[2m \u001b[0m\u001b[2m17\u001b[0m\u001b[2m \u001b[0m│ layers.5.proj_out       │ Identity          │      0 │\n",
       "│\u001b[2m \u001b[0m\u001b[2m18\u001b[0m\u001b[2m \u001b[0m│ layers.5.sep_conv_block │ Sequential        │  268 K │\n",
       "│\u001b[2m \u001b[0m\u001b[2m19\u001b[0m\u001b[2m \u001b[0m│ layers.6                │ MySepConvLayer    │  268 K │\n",
       "│\u001b[2m \u001b[0m\u001b[2m20\u001b[0m\u001b[2m \u001b[0m│ layers.6.proj_out       │ Identity          │      0 │\n",
       "│\u001b[2m \u001b[0m\u001b[2m21\u001b[0m\u001b[2m \u001b[0m│ layers.6.sep_conv_block │ Sequential        │  268 K │\n",
       "│\u001b[2m \u001b[0m\u001b[2m22\u001b[0m\u001b[2m \u001b[0m│ layers.7                │ AdaptiveMaxPool2d │      0 │\n",
       "│\u001b[2m \u001b[0m\u001b[2m23\u001b[0m\u001b[2m \u001b[0m│ layers.8                │ Flatten           │      0 │\n",
       "│\u001b[2m \u001b[0m\u001b[2m24\u001b[0m\u001b[2m \u001b[0m│ layers.9                │ Linear            │    513 │\n",
       "└────┴─────────────────────────┴───────────────────┴────────┘\n"
      ]
     },
     "metadata": {},
     "output_type": "display_data"
    },
    {
     "data": {
      "text/html": [
       "<pre style=\"white-space:pre;overflow-x:auto;line-height:normal;font-family:Menlo,'DejaVu Sans Mono',consolas,'Courier New',monospace\"><span style=\"font-weight: bold\">Trainable params</span>: 1.8 M                                                                                            \n",
       "<span style=\"font-weight: bold\">Non-trainable params</span>: 0                                                                                            \n",
       "<span style=\"font-weight: bold\">Total params</span>: 1.8 M                                                                                                \n",
       "<span style=\"font-weight: bold\">Total estimated model params size (MB)</span>: 14                                                                         \n",
       "</pre>\n"
      ],
      "text/plain": [
       "\u001b[1mTrainable params\u001b[0m: 1.8 M                                                                                            \n",
       "\u001b[1mNon-trainable params\u001b[0m: 0                                                                                            \n",
       "\u001b[1mTotal params\u001b[0m: 1.8 M                                                                                                \n",
       "\u001b[1mTotal estimated model params size (MB)\u001b[0m: 14                                                                         \n"
      ]
     },
     "metadata": {},
     "output_type": "display_data"
    },
    {
     "data": {
      "application/vnd.jupyter.widget-view+json": {
       "model_id": "8ed80375948248b6bb3989d13c436eab",
       "version_major": 2,
       "version_minor": 0
      },
      "text/plain": [
       "Output()"
      ]
     },
     "metadata": {},
     "output_type": "display_data"
    },
    {
     "data": {
      "text/html": [
       "<pre style=\"white-space:pre;overflow-x:auto;line-height:normal;font-family:Menlo,'DejaVu Sans Mono',consolas,'Courier New',monospace\">/Users/valentinhoffmann/anaconda3/lib/python3.10/site-packages/pytorch_lightning/trainer/connectors/data_connector.\n",
       "py:488: PossibleUserWarning: Your `val_dataloader`'s sampler has shuffling enabled, it is strongly recommended that\n",
       "you turn shuffling off for val/test/predict dataloaders.\n",
       "  rank_zero_warn(\n",
       "</pre>\n"
      ],
      "text/plain": [
       "/Users/valentinhoffmann/anaconda3/lib/python3.10/site-packages/pytorch_lightning/trainer/connectors/data_connector.\n",
       "py:488: PossibleUserWarning: Your `val_dataloader`'s sampler has shuffling enabled, it is strongly recommended that\n",
       "you turn shuffling off for val/test/predict dataloaders.\n",
       "  rank_zero_warn(\n"
      ]
     },
     "metadata": {},
     "output_type": "display_data"
    },
    {
     "data": {
      "text/html": [
       "<pre style=\"white-space:pre;overflow-x:auto;line-height:normal;font-family:Menlo,'DejaVu Sans Mono',consolas,'Courier New',monospace\">/Users/valentinhoffmann/anaconda3/lib/python3.10/site-packages/pytorch_lightning/trainer/connectors/data_connector.\n",
       "py:224: PossibleUserWarning: The dataloader, val_dataloader 0, does not have many workers which may be a \n",
       "bottleneck. Consider increasing the value of the `num_workers` argument` (try 12 which is the number of cpus on \n",
       "this machine) in the `DataLoader` init to improve performance.\n",
       "  rank_zero_warn(\n",
       "</pre>\n"
      ],
      "text/plain": [
       "/Users/valentinhoffmann/anaconda3/lib/python3.10/site-packages/pytorch_lightning/trainer/connectors/data_connector.\n",
       "py:224: PossibleUserWarning: The dataloader, val_dataloader 0, does not have many workers which may be a \n",
       "bottleneck. Consider increasing the value of the `num_workers` argument` (try 12 which is the number of cpus on \n",
       "this machine) in the `DataLoader` init to improve performance.\n",
       "  rank_zero_warn(\n"
      ]
     },
     "metadata": {},
     "output_type": "display_data"
    },
    {
     "data": {
      "text/html": [
       "<pre style=\"white-space:pre;overflow-x:auto;line-height:normal;font-family:Menlo,'DejaVu Sans Mono',consolas,'Courier New',monospace\">forward: torch.Size([128, 12, 15, 15])\n",
       "</pre>\n"
      ],
      "text/plain": [
       "forward: torch.Size([128, 12, 15, 15])\n"
      ]
     },
     "metadata": {},
     "output_type": "display_data"
    },
    {
     "data": {
      "text/html": [
       "<pre style=\"white-space:pre;overflow-x:auto;line-height:normal;font-family:Menlo,'DejaVu Sans Mono',consolas,'Courier New',monospace\">/Users/valentinhoffmann/anaconda3/lib/python3.10/site-packages/torch/nn/modules/loss.py:530: UserWarning: Using a \n",
       "target size (torch.Size([128])) that is different to the input size (torch.Size([128, 1])). This will likely lead \n",
       "to incorrect results due to broadcasting. Please ensure they have the same size.\n",
       "  return F.mse_loss(input, target, reduction=self.reduction)\n",
       "</pre>\n"
      ],
      "text/plain": [
       "/Users/valentinhoffmann/anaconda3/lib/python3.10/site-packages/torch/nn/modules/loss.py:530: UserWarning: Using a \n",
       "target size (torch.Size([128])) that is different to the input size (torch.Size([128, 1])). This will likely lead \n",
       "to incorrect results due to broadcasting. Please ensure they have the same size.\n",
       "  return F.mse_loss(input, target, reduction=self.reduction)\n"
      ]
     },
     "metadata": {},
     "output_type": "display_data"
    },
    {
     "data": {
      "text/html": [
       "<pre style=\"white-space:pre;overflow-x:auto;line-height:normal;font-family:Menlo,'DejaVu Sans Mono',consolas,'Courier New',monospace\">forward: torch.Size([128, 12, 15, 15])\n",
       "</pre>\n"
      ],
      "text/plain": [
       "forward: torch.Size([128, 12, 15, 15])\n"
      ]
     },
     "metadata": {},
     "output_type": "display_data"
    },
    {
     "data": {
      "text/html": [
       "<pre style=\"white-space:pre;overflow-x:auto;line-height:normal;font-family:Menlo,'DejaVu Sans Mono',consolas,'Courier New',monospace\">/Users/valentinhoffmann/anaconda3/lib/python3.10/site-packages/pytorch_lightning/trainer/connectors/data_connector.\n",
       "py:224: PossibleUserWarning: The dataloader, train_dataloader, does not have many workers which may be a \n",
       "bottleneck. Consider increasing the value of the `num_workers` argument` (try 12 which is the number of cpus on \n",
       "this machine) in the `DataLoader` init to improve performance.\n",
       "  rank_zero_warn(\n",
       "</pre>\n"
      ],
      "text/plain": [
       "/Users/valentinhoffmann/anaconda3/lib/python3.10/site-packages/pytorch_lightning/trainer/connectors/data_connector.\n",
       "py:224: PossibleUserWarning: The dataloader, train_dataloader, does not have many workers which may be a \n",
       "bottleneck. Consider increasing the value of the `num_workers` argument` (try 12 which is the number of cpus on \n",
       "this machine) in the `DataLoader` init to improve performance.\n",
       "  rank_zero_warn(\n"
      ]
     },
     "metadata": {},
     "output_type": "display_data"
    },
    {
     "data": {
      "text/html": [
       "<pre style=\"white-space:pre;overflow-x:auto;line-height:normal;font-family:Menlo,'DejaVu Sans Mono',consolas,'Courier New',monospace\">forward: torch.Size([128, 12, 15, 15])\n",
       "</pre>\n"
      ],
      "text/plain": [
       "forward: torch.Size([128, 12, 15, 15])\n"
      ]
     },
     "metadata": {},
     "output_type": "display_data"
    },
    {
     "data": {
      "text/html": [
       "<pre style=\"white-space:pre;overflow-x:auto;line-height:normal;font-family:Menlo,'DejaVu Sans Mono',consolas,'Courier New',monospace\">forward: torch.Size([128, 12, 15, 15])\n",
       "</pre>\n"
      ],
      "text/plain": [
       "forward: torch.Size([128, 12, 15, 15])\n"
      ]
     },
     "metadata": {},
     "output_type": "display_data"
    },
    {
     "data": {
      "text/html": [
       "<pre style=\"white-space:pre;overflow-x:auto;line-height:normal;font-family:Menlo,'DejaVu Sans Mono',consolas,'Courier New',monospace\">forward: torch.Size([128, 12, 15, 15])\n",
       "</pre>\n"
      ],
      "text/plain": [
       "forward: torch.Size([128, 12, 15, 15])\n"
      ]
     },
     "metadata": {},
     "output_type": "display_data"
    }
   ],
   "source": [
    "trainer1.fit(tree_model, trainloader, validloader)"
   ]
  }
 ],
 "metadata": {
  "kernelspec": {
   "display_name": "Python 3 (ipykernel)",
   "language": "python",
   "name": "python3"
  },
  "language_info": {
   "codemirror_mode": {
    "name": "ipython",
    "version": 3
   },
   "file_extension": ".py",
   "mimetype": "text/x-python",
   "name": "python",
   "nbconvert_exporter": "python",
   "pygments_lexer": "ipython3",
   "version": "3.10.9"
  }
 },
 "nbformat": 4,
 "nbformat_minor": 5
}
