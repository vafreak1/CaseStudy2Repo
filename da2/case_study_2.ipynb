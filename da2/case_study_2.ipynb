{
 "cells": [
  {
   "cell_type": "code",
   "execution_count": 42,
   "id": "2442d2f5",
   "metadata": {},
   "outputs": [],
   "source": [
    "import numpy as np"
   ]
  },
  {
   "cell_type": "code",
   "execution_count": 43,
   "id": "d52ff711",
   "metadata": {},
   "outputs": [],
   "source": [
    "def ndigit(n, x):\n",
    "    x = str(x)\n",
    "    while(len(x) < n):\n",
    "        x = \"0\" + x\n",
    "    return x"
   ]
  },
  {
   "cell_type": "code",
   "execution_count": 64,
   "id": "ef62c4af",
   "metadata": {},
   "outputs": [],
   "source": [
    "def load_data(res, files = 20, test = False):\n",
    "    j = 0\n",
    "    if (test == True):\n",
    "        path = \"02\"\n",
    "    else:\n",
    "        path = \"train\"\n",
    "    res = int((res-1)/2)\n",
    "    \n",
    "    for n in range(files):\n",
    "        image = np.load(f\"images_{path}/images/image_{ndigit(3, n)}.npy\")\n",
    "        masks = np.load(f\"masks_{path}/masks/mask_{ndigit(3, n)}.npy\")\n",
    "        masks = np.reshape(masks, (1024,1024,1))\n",
    "        ground_truths_pos = np.array(np.where(masks != 0)).T\n",
    "        for i in ground_truths_pos:\n",
    "            train = (image[:, i[0]-res : i[0]+res+1, i[1]-res : i[1]+res+1], masks[i[0], i[1], 0])\n",
    "            np.save(f\"images_{path}/train/train_{ndigit(5, j)}.npy\", train)\n",
    "            j = j + 1"
   ]
  },
  {
   "cell_type": "code",
   "execution_count": 65,
   "id": "5fce53c0",
   "metadata": {},
   "outputs": [],
   "source": [
    "load_data(31)"
   ]
  },
  {
   "cell_type": "code",
   "execution_count": null,
   "id": "16bd0e23",
   "metadata": {},
   "outputs": [],
   "source": []
  }
 ],
 "metadata": {
  "kernelspec": {
   "display_name": "Python 3 (ipykernel)",
   "language": "python",
   "name": "python3"
  },
  "language_info": {
   "codemirror_mode": {
    "name": "ipython",
    "version": 3
   },
   "file_extension": ".py",
   "mimetype": "text/x-python",
   "name": "python",
   "nbconvert_exporter": "python",
   "pygments_lexer": "ipython3",
   "version": "3.9.12"
  }
 },
 "nbformat": 4,
 "nbformat_minor": 5
}
